{
 "cells": [
  {
   "cell_type": "markdown",
   "metadata": {},
   "source": [
    "# Bank Marketing Campaign Project"
   ]
  },
  {
   "cell_type": "markdown",
   "metadata": {},
   "source": [
    "Data Set Information:\n",
    "\n",
    "The data is related with direct marketing campaigns of a Portuguese banking institution. The marketing campaigns were based on phone calls. Often, more than one contact to the same client was required, in order to access if the product (bank term deposit) would be ('yes') or not ('no') subscribed."
   ]
  },
  {
   "cell_type": "markdown",
   "metadata": {},
   "source": [
    "Attribute Information:\n",
    "\n",
    "Input variables:\n",
    "bank client data:\n",
    "- age (numeric)\n",
    "- job : type of job (categorical: 'admin.','blue-collar','entrepreneur','housemaid','management','retired','self-employed','services','student','technician','unemployed','unknown')\n",
    "- marital : marital status (categorical: 'divorced','married','single','unknown'; note: 'divorced' means divorced or widowed)\n",
    "- education (categorical: 'basic.4y','basic.6y','basic.9y','high.school','illiterate','professional.course','university.degree','unknown')\n",
    "- default: has credit in default? (categorical: 'no','yes','unknown')\n",
    "- housing: has housing loan? (categorical: 'no','yes','unknown')\n",
    "- loan: has personal loan? (categorical: 'no','yes','unknown')\n",
    "- contact: contact communication type (categorical: 'cellular','telephone')\n",
    "- month: last contact month of year (categorical: 'jan', 'feb', 'mar', ..., 'nov', 'dec')\n",
    "- day_of_week: last contact day of the week (categorical: 'mon','tue','wed','thu','fri')\n",
    "- duration: last contact duration, in seconds (numeric).\n",
    "\n",
    "- campaign: number of contacts performed during this campaign and for this client (numeric, includes last contact)\n",
    "- pdays: number of days that passed by after the client was last contacted from a previous campaign (numeric; 999 means client was not previously contacted)\n",
    "- previous: number of contacts performed before this campaign and for this client (numeric)\n",
    " - poutcome: outcome of the previous marketing campaign (categorical: 'failure','nonexistent','success')"
   ]
  },
  {
   "cell_type": "markdown",
   "metadata": {},
   "source": [
    "Output variable (desired target):\n",
    "- y - has the client subscribed a term deposit? (binary: 'yes','no')"
   ]
  },
  {
   "cell_type": "markdown",
   "metadata": {},
   "source": [
    "This dataset is public available for research. The details are described in [Moro et al., 2014]."
   ]
  },
  {
   "cell_type": "markdown",
   "metadata": {},
   "source": [
    "Please include this citation if you plan to use this database:\n",
    "\n",
    "[Moro et al., 2014] S. Moro, P. Cortez and P. Rita. A Data-Driven Approach to Predict the Success of Bank Telemarketing. Decision Support Systems, Elsevier, 62:22-31, June 2014"
   ]
  },
  {
   "cell_type": "markdown",
   "metadata": {},
   "source": [
    "https://archive.ics.uci.edu/ml/datasets/Bank+Marketing"
   ]
  },
  {
   "cell_type": "code",
   "execution_count": 1,
   "metadata": {},
   "outputs": [],
   "source": [
    "#IMPORT LIBRARIES\n",
    "import pandas as pd\n",
    "import pandas_profiling \n",
    "import numpy as np\n",
    "import matplotlib.pyplot as plt\n",
    "import seaborn as sns\n",
    "%matplotlib inline\n",
    "\n",
    "import time\n",
    "import gc\n",
    "import warnings\n",
    "warnings.filterwarnings(\"ignore\")\n",
    "\n",
    "from sklearn.model_selection import train_test_split, GridSearchCV, StratifiedKFold\n",
    "from sklearn.ensemble import RandomForestClassifier, BaggingClassifier\n",
    "from sklearn.tree import DecisionTreeClassifier\n",
    "from sklearn.linear_model import LogisticRegression\n",
    "from sklearn.metrics import roc_curve, roc_auc_score\n",
    "from sklearn.neighbors import KNeighborsClassifier\n",
    "from sklearn.pipeline import Pipeline\n",
    "from sklearn.linear_model import SGDClassifier\n",
    "from sklearn.metrics import roc_auc_score\n",
    "from sklearn.metrics import accuracy_score\n",
    "from sklearn.pipeline import Pipeline"
   ]
  },
  {
   "cell_type": "code",
   "execution_count": 2,
   "metadata": {},
   "outputs": [],
   "source": [
    "#import the dataset\n",
    "bank = pd.read_csv(\"../Data/bank-full.csv\", sep=\";\")"
   ]
  },
  {
   "cell_type": "code",
   "execution_count": 3,
   "metadata": {},
   "outputs": [],
   "source": [
    "#Making some copies just in case\n",
    "bank_1 = bank.copy()\n",
    "bank_2 = bank.copy()"
   ]
  },
  {
   "cell_type": "markdown",
   "metadata": {},
   "source": [
    "# Exploring Data"
   ]
  },
  {
   "cell_type": "code",
   "execution_count": 4,
   "metadata": {
    "scrolled": true
   },
   "outputs": [
    {
     "data": {
      "text/html": [
       "<div>\n",
       "<style scoped>\n",
       "    .dataframe tbody tr th:only-of-type {\n",
       "        vertical-align: middle;\n",
       "    }\n",
       "\n",
       "    .dataframe tbody tr th {\n",
       "        vertical-align: top;\n",
       "    }\n",
       "\n",
       "    .dataframe thead th {\n",
       "        text-align: right;\n",
       "    }\n",
       "</style>\n",
       "<table border=\"1\" class=\"dataframe\">\n",
       "  <thead>\n",
       "    <tr style=\"text-align: right;\">\n",
       "      <th></th>\n",
       "      <th>age</th>\n",
       "      <th>job</th>\n",
       "      <th>marital</th>\n",
       "      <th>education</th>\n",
       "      <th>default</th>\n",
       "      <th>balance</th>\n",
       "      <th>housing</th>\n",
       "      <th>loan</th>\n",
       "      <th>contact</th>\n",
       "      <th>day</th>\n",
       "      <th>month</th>\n",
       "      <th>duration</th>\n",
       "      <th>campaign</th>\n",
       "      <th>pdays</th>\n",
       "      <th>previous</th>\n",
       "      <th>poutcome</th>\n",
       "      <th>y</th>\n",
       "    </tr>\n",
       "  </thead>\n",
       "  <tbody>\n",
       "    <tr>\n",
       "      <th>0</th>\n",
       "      <td>58</td>\n",
       "      <td>management</td>\n",
       "      <td>married</td>\n",
       "      <td>tertiary</td>\n",
       "      <td>no</td>\n",
       "      <td>2143</td>\n",
       "      <td>yes</td>\n",
       "      <td>no</td>\n",
       "      <td>unknown</td>\n",
       "      <td>5</td>\n",
       "      <td>may</td>\n",
       "      <td>261</td>\n",
       "      <td>1</td>\n",
       "      <td>-1</td>\n",
       "      <td>0</td>\n",
       "      <td>unknown</td>\n",
       "      <td>no</td>\n",
       "    </tr>\n",
       "    <tr>\n",
       "      <th>1</th>\n",
       "      <td>44</td>\n",
       "      <td>technician</td>\n",
       "      <td>single</td>\n",
       "      <td>secondary</td>\n",
       "      <td>no</td>\n",
       "      <td>29</td>\n",
       "      <td>yes</td>\n",
       "      <td>no</td>\n",
       "      <td>unknown</td>\n",
       "      <td>5</td>\n",
       "      <td>may</td>\n",
       "      <td>151</td>\n",
       "      <td>1</td>\n",
       "      <td>-1</td>\n",
       "      <td>0</td>\n",
       "      <td>unknown</td>\n",
       "      <td>no</td>\n",
       "    </tr>\n",
       "    <tr>\n",
       "      <th>2</th>\n",
       "      <td>33</td>\n",
       "      <td>entrepreneur</td>\n",
       "      <td>married</td>\n",
       "      <td>secondary</td>\n",
       "      <td>no</td>\n",
       "      <td>2</td>\n",
       "      <td>yes</td>\n",
       "      <td>yes</td>\n",
       "      <td>unknown</td>\n",
       "      <td>5</td>\n",
       "      <td>may</td>\n",
       "      <td>76</td>\n",
       "      <td>1</td>\n",
       "      <td>-1</td>\n",
       "      <td>0</td>\n",
       "      <td>unknown</td>\n",
       "      <td>no</td>\n",
       "    </tr>\n",
       "    <tr>\n",
       "      <th>3</th>\n",
       "      <td>47</td>\n",
       "      <td>blue-collar</td>\n",
       "      <td>married</td>\n",
       "      <td>unknown</td>\n",
       "      <td>no</td>\n",
       "      <td>1506</td>\n",
       "      <td>yes</td>\n",
       "      <td>no</td>\n",
       "      <td>unknown</td>\n",
       "      <td>5</td>\n",
       "      <td>may</td>\n",
       "      <td>92</td>\n",
       "      <td>1</td>\n",
       "      <td>-1</td>\n",
       "      <td>0</td>\n",
       "      <td>unknown</td>\n",
       "      <td>no</td>\n",
       "    </tr>\n",
       "    <tr>\n",
       "      <th>4</th>\n",
       "      <td>33</td>\n",
       "      <td>unknown</td>\n",
       "      <td>single</td>\n",
       "      <td>unknown</td>\n",
       "      <td>no</td>\n",
       "      <td>1</td>\n",
       "      <td>no</td>\n",
       "      <td>no</td>\n",
       "      <td>unknown</td>\n",
       "      <td>5</td>\n",
       "      <td>may</td>\n",
       "      <td>198</td>\n",
       "      <td>1</td>\n",
       "      <td>-1</td>\n",
       "      <td>0</td>\n",
       "      <td>unknown</td>\n",
       "      <td>no</td>\n",
       "    </tr>\n",
       "  </tbody>\n",
       "</table>\n",
       "</div>"
      ],
      "text/plain": [
       "   age           job  marital  education default  balance housing loan  \\\n",
       "0   58    management  married   tertiary      no     2143     yes   no   \n",
       "1   44    technician   single  secondary      no       29     yes   no   \n",
       "2   33  entrepreneur  married  secondary      no        2     yes  yes   \n",
       "3   47   blue-collar  married    unknown      no     1506     yes   no   \n",
       "4   33       unknown   single    unknown      no        1      no   no   \n",
       "\n",
       "   contact  day month  duration  campaign  pdays  previous poutcome   y  \n",
       "0  unknown    5   may       261         1     -1         0  unknown  no  \n",
       "1  unknown    5   may       151         1     -1         0  unknown  no  \n",
       "2  unknown    5   may        76         1     -1         0  unknown  no  \n",
       "3  unknown    5   may        92         1     -1         0  unknown  no  \n",
       "4  unknown    5   may       198         1     -1         0  unknown  no  "
      ]
     },
     "execution_count": 4,
     "metadata": {},
     "output_type": "execute_result"
    }
   ],
   "source": [
    "#Exploring the dataset\n",
    "bank.head(5)"
   ]
  },
  {
   "cell_type": "code",
   "execution_count": 5,
   "metadata": {
    "scrolled": true
   },
   "outputs": [
    {
     "data": {
      "text/plain": [
       "age          0\n",
       "job          0\n",
       "marital      0\n",
       "education    0\n",
       "default      0\n",
       "balance      0\n",
       "housing      0\n",
       "loan         0\n",
       "contact      0\n",
       "day          0\n",
       "month        0\n",
       "duration     0\n",
       "campaign     0\n",
       "pdays        0\n",
       "previous     0\n",
       "poutcome     0\n",
       "y            0\n",
       "dtype: int64"
      ]
     },
     "execution_count": 5,
     "metadata": {},
     "output_type": "execute_result"
    }
   ],
   "source": [
    "#Check for missing values\n",
    "bank.isna().sum()"
   ]
  },
  {
   "cell_type": "markdown",
   "metadata": {},
   "source": [
    "There are no missing values in the dataset"
   ]
  },
  {
   "cell_type": "code",
   "execution_count": 6,
   "metadata": {},
   "outputs": [
    {
     "name": "stdout",
     "output_type": "stream",
     "text": [
      "<class 'pandas.core.frame.DataFrame'>\n",
      "RangeIndex: 45211 entries, 0 to 45210\n",
      "Data columns (total 17 columns):\n",
      " #   Column     Non-Null Count  Dtype \n",
      "---  ------     --------------  ----- \n",
      " 0   age        45211 non-null  int64 \n",
      " 1   job        45211 non-null  object\n",
      " 2   marital    45211 non-null  object\n",
      " 3   education  45211 non-null  object\n",
      " 4   default    45211 non-null  object\n",
      " 5   balance    45211 non-null  int64 \n",
      " 6   housing    45211 non-null  object\n",
      " 7   loan       45211 non-null  object\n",
      " 8   contact    45211 non-null  object\n",
      " 9   day        45211 non-null  int64 \n",
      " 10  month      45211 non-null  object\n",
      " 11  duration   45211 non-null  int64 \n",
      " 12  campaign   45211 non-null  int64 \n",
      " 13  pdays      45211 non-null  int64 \n",
      " 14  previous   45211 non-null  int64 \n",
      " 15  poutcome   45211 non-null  object\n",
      " 16  y          45211 non-null  object\n",
      "dtypes: int64(7), object(10)\n",
      "memory usage: 5.9+ MB\n"
     ]
    }
   ],
   "source": [
    "#Further exploring the data\n",
    "bank.info()"
   ]
  },
  {
   "cell_type": "markdown",
   "metadata": {},
   "source": [
    "The variable \"pdays\" has a -1 value, I will change it to 0 which means 0 days have passde since last contact beacuse hat client has never been contacted before."
   ]
  },
  {
   "cell_type": "code",
   "execution_count": 7,
   "metadata": {},
   "outputs": [],
   "source": [
    "#Replace the value -1 for 0\n",
    "bank.pdays = bank.pdays.replace(-1, 0)"
   ]
  },
  {
   "cell_type": "markdown",
   "metadata": {},
   "source": [
    "There are some values in the dataset that I will change in order to make more sense of some variables.\n",
    "For example, I know that unknown value in the contact feature is actually \"telephone\" by looking at the description of the dataset."
   ]
  },
  {
   "cell_type": "code",
   "execution_count": 8,
   "metadata": {},
   "outputs": [],
   "source": [
    "#Replace the value of unknown for telephone\n",
    "bank[\"contact\"].replace({\"unknown\": \"telephone\"}, inplace=True)"
   ]
  },
  {
   "cell_type": "markdown",
   "metadata": {},
   "source": [
    "The values of \"poutcome\" are either succes, failure or unknown. So I will change the \"other\" value to unknown."
   ]
  },
  {
   "cell_type": "code",
   "execution_count": 9,
   "metadata": {},
   "outputs": [],
   "source": [
    "#Changing the value of other to unknown\n",
    "bank[\"poutcome\"].replace({\"other\": \"unknown\"}, inplace=True)"
   ]
  },
  {
   "cell_type": "markdown",
   "metadata": {},
   "source": [
    "# Preprocessing features"
   ]
  },
  {
   "cell_type": "markdown",
   "metadata": {},
   "source": [
    "Preparing the features for machine learning."
   ]
  },
  {
   "cell_type": "markdown",
   "metadata": {},
   "source": [
    "## Categorical Features"
   ]
  },
  {
   "cell_type": "markdown",
   "metadata": {},
   "source": [
    "There are many features with yes or no, so I will binary encode them( 1's and 0's).\n",
    "This features are: \"contact\", \"loan\", \"housing\", \"defult\" and \"previous\". "
   ]
  },
  {
   "cell_type": "code",
   "execution_count": 10,
   "metadata": {},
   "outputs": [],
   "source": [
    "#Replacing values with binary ()\n",
    "bank.contact = bank.contact.map({'cellular': 1, 'telephone': 0})\n",
    "bank.loan = bank.loan.map({'yes': 1, 'no' : 0})\n",
    "bank.housing = bank.housing.map({'yes': 1, 'no' : 0})\n",
    "bank.default = bank.default.map({'yes': 1, 'no': 0})\n",
    "bank.previous = bank.previous.apply(lambda x: 1 if x > 0 else 0)"
   ]
  },
  {
   "cell_type": "markdown",
   "metadata": {},
   "source": [
    "One Hot Encode the rest of the categorical features.\n",
    "These are: 'job', 'marital', 'education', 'month', 'poutcome'"
   ]
  },
  {
   "cell_type": "code",
   "execution_count": 11,
   "metadata": {},
   "outputs": [],
   "source": [
    "#Create a df with get_dummies(One hot encode) for certain columns\n",
    "one = pd.get_dummies(data=bank, columns=['job', 'marital', 'education', 'month', 'poutcome'])"
   ]
  },
  {
   "cell_type": "code",
   "execution_count": 12,
   "metadata": {},
   "outputs": [],
   "source": [
    "#Drop the duplicated columns\n",
    "one = one.drop(columns=['age', 'default', 'balance', 'housing', 'loan', 'contact', 'day',\n",
    "       'duration', 'campaign', 'pdays', 'previous', 'y'])"
   ]
  },
  {
   "cell_type": "code",
   "execution_count": 13,
   "metadata": {},
   "outputs": [],
   "source": [
    "#Concatenate the one hoy encoded df with the original df\n",
    "bank = pd.concat([bank, one], axis=1)"
   ]
  },
  {
   "cell_type": "code",
   "execution_count": 14,
   "metadata": {},
   "outputs": [],
   "source": [
    "#Drop the duplicated columns from concatenating\n",
    "bank = bank.drop(columns=['job', 'marital', 'education', 'month', 'poutcome'])"
   ]
  },
  {
   "cell_type": "code",
   "execution_count": 15,
   "metadata": {
    "scrolled": true
   },
   "outputs": [
    {
     "data": {
      "text/plain": [
       "(45211, 46)"
      ]
     },
     "execution_count": 15,
     "metadata": {},
     "output_type": "execute_result"
    }
   ],
   "source": [
    "bank.shape"
   ]
  },
  {
   "cell_type": "markdown",
   "metadata": {},
   "source": [
    "Now all my categorical features have been preprocessed and I ended up with 46 columns in my dataframe."
   ]
  },
  {
   "cell_type": "markdown",
   "metadata": {},
   "source": [
    "## Numerical Features"
   ]
  },
  {
   "cell_type": "markdown",
   "metadata": {},
   "source": [
    "The duration column is in seconds and it varies a lot, to simplify, I will bin them or place them in categories I will create."
   ]
  },
  {
   "cell_type": "code",
   "execution_count": 16,
   "metadata": {},
   "outputs": [],
   "source": [
    "#Function for categorizing duration\n",
    "def duration(data):\n",
    "    data.loc[data['duration'] <= 120, 'duration'] = 1\n",
    "    data.loc[(data['duration'] > 120) & (data['duration'] <= 240)  , 'duration'] = 2\n",
    "    data.loc[(data['duration'] > 240) & (data['duration'] <= 360)  , 'duration'] = 3\n",
    "    data.loc[(data['duration'] > 360) & (data['duration'] <= 600), 'duration'] = 4\n",
    "    data.loc[data['duration']  > 600, 'duration'] = 5\n",
    "    return data\n",
    "duration(bank);"
   ]
  },
  {
   "cell_type": "markdown",
   "metadata": {},
   "source": [
    "Same goes for the \"age\" column."
   ]
  },
  {
   "cell_type": "code",
   "execution_count": 17,
   "metadata": {},
   "outputs": [],
   "source": [
    "#Function for categorizing age\n",
    "def age(data):\n",
    "    data.loc[(data['age'] >= 18) & (data['age'] <= 25)  , 'age'] = 1\n",
    "    data.loc[(data['age'] > 25) & (data['age'] <= 30)  , 'age'] = 2\n",
    "    data.loc[(data['age'] > 30) & (data['age'] <= 35)  , 'age'] = 3\n",
    "    data.loc[(data['age'] > 35) & (data['age'] <= 40)  , 'age'] = 4\n",
    "    data.loc[(data['age'] > 40) & (data['age'] <= 45), 'age'] = 5\n",
    "    data.loc[(data['age'] > 45) & (data['age'] <= 50), 'age'] = 6\n",
    "    data.loc[(data['age'] > 50) & (data['age'] <= 55)  , 'age'] = 7\n",
    "    data.loc[(data['age'] > 55) & (data['age'] <= 60)  , 'age'] = 8\n",
    "    data.loc[data['age']  > 60, 'age'] = 9\n",
    "    return data\n",
    "age(bank);"
   ]
  },
  {
   "cell_type": "markdown",
   "metadata": {},
   "source": [
    "Now that my numerical features are ready I will scale them."
   ]
  },
  {
   "cell_type": "code",
   "execution_count": 18,
   "metadata": {},
   "outputs": [],
   "source": [
    "#Scaling the colums that are not binary\n",
    "from sklearn.preprocessing import MinMaxScaler, StandardScaler\n",
    "\n",
    "idx_numeric=[0, 2 ,6, 7, 8, 9]\n",
    "scaler = StandardScaler()\n",
    "bank[bank.columns[idx_numeric]] = scaler.fit_transform(bank[bank.columns[idx_numeric]])"
   ]
  },
  {
   "cell_type": "code",
   "execution_count": 19,
   "metadata": {
    "scrolled": false
   },
   "outputs": [
    {
     "data": {
      "text/html": [
       "<div>\n",
       "<style scoped>\n",
       "    .dataframe tbody tr th:only-of-type {\n",
       "        vertical-align: middle;\n",
       "    }\n",
       "\n",
       "    .dataframe tbody tr th {\n",
       "        vertical-align: top;\n",
       "    }\n",
       "\n",
       "    .dataframe thead th {\n",
       "        text-align: right;\n",
       "    }\n",
       "</style>\n",
       "<table border=\"1\" class=\"dataframe\">\n",
       "  <thead>\n",
       "    <tr style=\"text-align: right;\">\n",
       "      <th></th>\n",
       "      <th>age</th>\n",
       "      <th>default</th>\n",
       "      <th>balance</th>\n",
       "      <th>housing</th>\n",
       "      <th>loan</th>\n",
       "      <th>contact</th>\n",
       "      <th>day</th>\n",
       "      <th>duration</th>\n",
       "      <th>campaign</th>\n",
       "      <th>pdays</th>\n",
       "      <th>...</th>\n",
       "      <th>month_jul</th>\n",
       "      <th>month_jun</th>\n",
       "      <th>month_mar</th>\n",
       "      <th>month_may</th>\n",
       "      <th>month_nov</th>\n",
       "      <th>month_oct</th>\n",
       "      <th>month_sep</th>\n",
       "      <th>poutcome_failure</th>\n",
       "      <th>poutcome_success</th>\n",
       "      <th>poutcome_unknown</th>\n",
       "    </tr>\n",
       "  </thead>\n",
       "  <tbody>\n",
       "    <tr>\n",
       "      <th>0</th>\n",
       "      <td>1.699584</td>\n",
       "      <td>0</td>\n",
       "      <td>0.256419</td>\n",
       "      <td>1</td>\n",
       "      <td>0</td>\n",
       "      <td>0</td>\n",
       "      <td>-1.298476</td>\n",
       "      <td>0.518057</td>\n",
       "      <td>-0.569351</td>\n",
       "      <td>-0.411009</td>\n",
       "      <td>...</td>\n",
       "      <td>0</td>\n",
       "      <td>0</td>\n",
       "      <td>0</td>\n",
       "      <td>1</td>\n",
       "      <td>0</td>\n",
       "      <td>0</td>\n",
       "      <td>0</td>\n",
       "      <td>0</td>\n",
       "      <td>0</td>\n",
       "      <td>1</td>\n",
       "    </tr>\n",
       "    <tr>\n",
       "      <th>1</th>\n",
       "      <td>0.220301</td>\n",
       "      <td>0</td>\n",
       "      <td>-0.437895</td>\n",
       "      <td>1</td>\n",
       "      <td>0</td>\n",
       "      <td>0</td>\n",
       "      <td>-1.298476</td>\n",
       "      <td>-0.273383</td>\n",
       "      <td>-0.569351</td>\n",
       "      <td>-0.411009</td>\n",
       "      <td>...</td>\n",
       "      <td>0</td>\n",
       "      <td>0</td>\n",
       "      <td>0</td>\n",
       "      <td>1</td>\n",
       "      <td>0</td>\n",
       "      <td>0</td>\n",
       "      <td>0</td>\n",
       "      <td>0</td>\n",
       "      <td>0</td>\n",
       "      <td>1</td>\n",
       "    </tr>\n",
       "    <tr>\n",
       "      <th>2</th>\n",
       "      <td>-0.765888</td>\n",
       "      <td>0</td>\n",
       "      <td>-0.446762</td>\n",
       "      <td>1</td>\n",
       "      <td>1</td>\n",
       "      <td>0</td>\n",
       "      <td>-1.298476</td>\n",
       "      <td>-1.064823</td>\n",
       "      <td>-0.569351</td>\n",
       "      <td>-0.411009</td>\n",
       "      <td>...</td>\n",
       "      <td>0</td>\n",
       "      <td>0</td>\n",
       "      <td>0</td>\n",
       "      <td>1</td>\n",
       "      <td>0</td>\n",
       "      <td>0</td>\n",
       "      <td>0</td>\n",
       "      <td>0</td>\n",
       "      <td>0</td>\n",
       "      <td>1</td>\n",
       "    </tr>\n",
       "    <tr>\n",
       "      <th>3</th>\n",
       "      <td>0.713395</td>\n",
       "      <td>0</td>\n",
       "      <td>0.047205</td>\n",
       "      <td>1</td>\n",
       "      <td>0</td>\n",
       "      <td>0</td>\n",
       "      <td>-1.298476</td>\n",
       "      <td>-1.064823</td>\n",
       "      <td>-0.569351</td>\n",
       "      <td>-0.411009</td>\n",
       "      <td>...</td>\n",
       "      <td>0</td>\n",
       "      <td>0</td>\n",
       "      <td>0</td>\n",
       "      <td>1</td>\n",
       "      <td>0</td>\n",
       "      <td>0</td>\n",
       "      <td>0</td>\n",
       "      <td>0</td>\n",
       "      <td>0</td>\n",
       "      <td>1</td>\n",
       "    </tr>\n",
       "    <tr>\n",
       "      <th>4</th>\n",
       "      <td>-0.765888</td>\n",
       "      <td>0</td>\n",
       "      <td>-0.447091</td>\n",
       "      <td>0</td>\n",
       "      <td>0</td>\n",
       "      <td>0</td>\n",
       "      <td>-1.298476</td>\n",
       "      <td>-0.273383</td>\n",
       "      <td>-0.569351</td>\n",
       "      <td>-0.411009</td>\n",
       "      <td>...</td>\n",
       "      <td>0</td>\n",
       "      <td>0</td>\n",
       "      <td>0</td>\n",
       "      <td>1</td>\n",
       "      <td>0</td>\n",
       "      <td>0</td>\n",
       "      <td>0</td>\n",
       "      <td>0</td>\n",
       "      <td>0</td>\n",
       "      <td>1</td>\n",
       "    </tr>\n",
       "  </tbody>\n",
       "</table>\n",
       "<p>5 rows × 46 columns</p>\n",
       "</div>"
      ],
      "text/plain": [
       "        age  default   balance  housing  loan  contact       day  duration  \\\n",
       "0  1.699584        0  0.256419        1     0        0 -1.298476  0.518057   \n",
       "1  0.220301        0 -0.437895        1     0        0 -1.298476 -0.273383   \n",
       "2 -0.765888        0 -0.446762        1     1        0 -1.298476 -1.064823   \n",
       "3  0.713395        0  0.047205        1     0        0 -1.298476 -1.064823   \n",
       "4 -0.765888        0 -0.447091        0     0        0 -1.298476 -0.273383   \n",
       "\n",
       "   campaign     pdays  ...  month_jul month_jun  month_mar  month_may  \\\n",
       "0 -0.569351 -0.411009  ...          0         0          0          1   \n",
       "1 -0.569351 -0.411009  ...          0         0          0          1   \n",
       "2 -0.569351 -0.411009  ...          0         0          0          1   \n",
       "3 -0.569351 -0.411009  ...          0         0          0          1   \n",
       "4 -0.569351 -0.411009  ...          0         0          0          1   \n",
       "\n",
       "   month_nov  month_oct  month_sep  poutcome_failure  poutcome_success  \\\n",
       "0          0          0          0                 0                 0   \n",
       "1          0          0          0                 0                 0   \n",
       "2          0          0          0                 0                 0   \n",
       "3          0          0          0                 0                 0   \n",
       "4          0          0          0                 0                 0   \n",
       "\n",
       "   poutcome_unknown  \n",
       "0                 1  \n",
       "1                 1  \n",
       "2                 1  \n",
       "3                 1  \n",
       "4                 1  \n",
       "\n",
       "[5 rows x 46 columns]"
      ]
     },
     "execution_count": 19,
     "metadata": {},
     "output_type": "execute_result"
    }
   ],
   "source": [
    "#The dataset is now scaled\n",
    "bank.head()"
   ]
  },
  {
   "cell_type": "markdown",
   "metadata": {},
   "source": [
    "Plotting to see the distribution now that it has been scaled."
   ]
  },
  {
   "cell_type": "code",
   "execution_count": 20,
   "metadata": {
    "scrolled": false
   },
   "outputs": [
    {
     "data": {
      "text/plain": [
       "<matplotlib.axes._subplots.AxesSubplot at 0x23d9cace070>"
      ]
     },
     "execution_count": 20,
     "metadata": {},
     "output_type": "execute_result"
    },
    {
     "data": {
      "image/png": "[encoded data removed]",
      "text/plain": [
       "<Figure size 432x288 with 1 Axes>"
      ]
     },
     "metadata": {
      "needs_background": "light"
     },
     "output_type": "display_data"
    }
   ],
   "source": [
    "sns.distplot(bank['age'])"
   ]
  },
  {
   "cell_type": "markdown",
   "metadata": {},
   "source": [
    "Encode the target variable with binary for the model."
   ]
  },
  {
   "cell_type": "code",
   "execution_count": 21,
   "metadata": {},
   "outputs": [],
   "source": [
    "#Encode target variable\n",
    "bank['y'] = bank['y'].map({'no':0, 'yes':1})"
   ]
  },
  {
   "cell_type": "markdown",
   "metadata": {},
   "source": [
    "Now that feature preprocessing is done, I will proceed to define the target variable.\n",
    "I will not use the day column as I dont think has an impact on the outcome. More on the visualization."
   ]
  },
  {
   "cell_type": "code",
   "execution_count": 22,
   "metadata": {},
   "outputs": [],
   "source": [
    "#Define the X and the y\n",
    "X = bank.drop(columns= ['y', 'day'])\n",
    "y= bank.y"
   ]
  },
  {
   "cell_type": "markdown",
   "metadata": {},
   "source": [
    "I proceed to the Train Test Split for the modelling"
   ]
  },
  {
   "cell_type": "code",
   "execution_count": 23,
   "metadata": {},
   "outputs": [],
   "source": [
    "#Coding the train test spit to use for modelling\n",
    "from sklearn.model_selection import train_test_split\n",
    "\n",
    "X_train, X_test, y_train, y_test = train_test_split(X, y,  test_size=0.2, random_state=8)\n",
    "\n",
    "# training datasets to DataFrame again to manipulate them\n",
    "X_train = pd.DataFrame(X_train, columns= X.columns)\n",
    "X_test = pd.DataFrame(X_test, columns= X.columns)"
   ]
  },
  {
   "cell_type": "code",
   "execution_count": 67,
   "metadata": {},
   "outputs": [
    {
     "data": {
      "text/plain": [
       "(9043,)"
      ]
     },
     "execution_count": 67,
     "metadata": {},
     "output_type": "execute_result"
    }
   ],
   "source": [
    "y_test.shape"
   ]
  },
  {
   "cell_type": "markdown",
   "metadata": {},
   "source": [
    "CHeck for the most important features"
   ]
  },
  {
   "cell_type": "code",
   "execution_count": 24,
   "metadata": {
    "scrolled": false
   },
   "outputs": [
    {
     "data": {
      "image/png": "[encoded data removed]",
      "text/plain": [
       "<Figure size 864x864 with 1 Axes>"
      ]
     },
     "metadata": {},
     "output_type": "display_data"
    }
   ],
   "source": [
    "plt.style.use('seaborn-white')\n",
    "\n",
    "clf = DecisionTreeClassifier(class_weight='balanced', min_weight_fraction_leaf = 0.01)\n",
    "\n",
    "clf.fit(X_train, y_train)\n",
    "importances = clf.feature_importances_\n",
    "feature_names = X.columns\n",
    "index = np.argsort(importances)\n",
    "\n",
    "def feature_importance_graph(index, importances, feature_names):\n",
    "    plt.figure(figsize=(12,12))\n",
    "    plt.title(\"Feature Importance\", fontsize=10)\n",
    "    plt.barh(range(len(index)), importances[index], color='g',  align=\"center\")\n",
    "    plt.yticks(range(len(index)), feature_names[index], rotation='horizontal',fontsize=14)\n",
    "    plt.ylim([-1, len(index)])\n",
    "    \n",
    "feature_importance_graph(index, importances, feature_names)\n",
    "plt.show()"
   ]
  },
  {
   "cell_type": "markdown",
   "metadata": {},
   "source": [
    "We can see that the most important feature are by far Duration poutcome and housing."
   ]
  },
  {
   "cell_type": "markdown",
   "metadata": {},
   "source": [
    "Our dataset is higly imbalanced. 88% said no to the term deposit, which is our target variable. Imbalanced classifications pose a challenge for predictive modeling as most of the machine learning algorithms used for classification were designed around the assumption of an equal number of examples for each class."
   ]
  },
  {
   "cell_type": "markdown",
   "metadata": {},
   "source": [
    "There are many techniques to tackle imbalanced data. In my case I will use the SMOTE(Synthetic Minority Oversampling Technique). SMOTE is one of the most commonly used oversampling methods to solve the imbalance problem. It aims to balance class distribution by randomly increasing minority class examples by replicating them. for more on SMOTE please refer to ####"
   ]
  },
  {
   "cell_type": "markdown",
   "metadata": {},
   "source": [
    "# SMOTE"
   ]
  },
  {
   "cell_type": "code",
   "execution_count": 25,
   "metadata": {
    "scrolled": true
   },
   "outputs": [
    {
     "name": "stdout",
     "output_type": "stream",
     "text": [
      "Before Counter({0: 31947, 1: 4221})\n",
      "After Counter({1: 31947, 0: 31947})\n"
     ]
    }
   ],
   "source": [
    "#import the package\n",
    "from imblearn.over_sampling import SMOTE\n",
    "from collections import Counter\n",
    "#Set counterb\n",
    "counter = Counter(y_train)\n",
    "print(f'Before {counter}')\n",
    "# oversampling the train dataset using SMOTE\n",
    "smt = SMOTE()\n",
    "#X_train, y_train = smt.fit_resample(X_train, y_train)\n",
    "X_train_sm, y_train_sm = smt.fit_resample(X_train, y_train)\n",
    "\n",
    "counter = Counter(y_train_sm)\n",
    "print(f'After {counter}')"
   ]
  },
  {
   "cell_type": "markdown",
   "metadata": {},
   "source": [
    "We now have a perfectly balanced data. I shall proceed with the models."
   ]
  },
  {
   "cell_type": "markdown",
   "metadata": {},
   "source": [
    "# Modelling"
   ]
  },
  {
   "cell_type": "markdown",
   "metadata": {},
   "source": [
    "I will use four classifiers: Logistic Regression, KN Nearest Neighbor, Decision Tree, Random Forest."
   ]
  },
  {
   "cell_type": "code",
   "execution_count": 26,
   "metadata": {},
   "outputs": [],
   "source": [
    "# dictionary to store accuracy and roc score for each model\n",
    "result_acc = {}\n",
    "result_auc = {}\n",
    "model_dict = {0:'Logistic_reg', 1:'Knn', 2:'DesionTree', 3:'RandomForest'}"
   ]
  },
  {
   "cell_type": "code",
   "execution_count": 27,
   "metadata": {},
   "outputs": [],
   "source": [
    "#Set random state\n",
    "random_state = 42\n",
    "\n",
    "#Set number of CPU's\n",
    "n_jobs= -1"
   ]
  },
  {
   "cell_type": "markdown",
   "metadata": {},
   "source": [
    "## Logistic Regression"
   ]
  },
  {
   "cell_type": "code",
   "execution_count": 28,
   "metadata": {},
   "outputs": [],
   "source": [
    "# LogisticRegression\n",
    "pipe_lr = Pipeline([('lr', LogisticRegression(random_state=random_state, n_jobs=n_jobs, max_iter=1000))])"
   ]
  },
  {
   "cell_type": "code",
   "execution_count": 29,
   "metadata": {
    "scrolled": true
   },
   "outputs": [
    {
     "name": "stdout",
     "output_type": "stream",
     "text": [
      "\n",
      "Estimator is Logistic Regression\n",
      "------------------------------\n",
      "ROC_AUC is 0.8843186220985525\n",
      "Accuracy rate is 0.8666371779276789\n",
      "------------------------------\n",
      "It took 14.216 seconds\n"
     ]
    }
   ],
   "source": [
    "#Fit the model and get the scores\n",
    "start = time.time()\n",
    "print()\n",
    "        \n",
    "print(f'Estimator is Logistic Regression')\n",
    "pipe_lr.fit(X_train_sm, y_train_sm)\n",
    "print(f'-'*30)\n",
    "auc = roc_auc_score(y_test, pipe_lr.predict_proba(X_test)[:,1])\n",
    "print(f'ROC_AUC is {auc}')\n",
    "print(f'Accuracy rate is {pipe_lr.score(X_test, y_test)}')\n",
    "print(f'-'*30)\n",
    "end = time.time()\n",
    "print(f'It took {round(end - start, 3)} seconds')\n",
    " "
   ]
  },
  {
   "cell_type": "markdown",
   "metadata": {},
   "source": [
    "### Logistic Regression with Cross Validation"
   ]
  },
  {
   "cell_type": "code",
   "execution_count": 30,
   "metadata": {
    "scrolled": true
   },
   "outputs": [
    {
     "name": "stdout",
     "output_type": "stream",
     "text": [
      "{'memory': None, 'steps': [('lr', LogisticRegression(max_iter=1000, n_jobs=-1, random_state=42))], 'verbose': False, 'lr': LogisticRegression(max_iter=1000, n_jobs=-1, random_state=42), 'lr__C': 1.0, 'lr__class_weight': None, 'lr__dual': False, 'lr__fit_intercept': True, 'lr__intercept_scaling': 1, 'lr__l1_ratio': None, 'lr__max_iter': 1000, 'lr__multi_class': 'auto', 'lr__n_jobs': -1, 'lr__penalty': 'l2', 'lr__random_state': 42, 'lr__solver': 'lbfgs', 'lr__tol': 0.0001, 'lr__verbose': 0, 'lr__warm_start': False}\n"
     ]
    }
   ],
   "source": [
    "#Get the parameters for the model\n",
    "from sklearn.base import BaseEstimator\n",
    "\n",
    "print(pipe_lr.get_params())"
   ]
  },
  {
   "cell_type": "markdown",
   "metadata": {},
   "source": [
    "I am going to apply Logistic Regression Using Cross Validation"
   ]
  },
  {
   "cell_type": "code",
   "execution_count": 31,
   "metadata": {},
   "outputs": [],
   "source": [
    "#Cross Validation\n",
    "cv = StratifiedKFold(shuffle=True, random_state=random_state)\n",
    "\n",
    "# set parameters for LogisticRegression\n",
    "grid_lr = {'lr__C': [0.3, 0.5, 0.7],\n",
    "        'lr__penalty': ['l2', 'l1'],\n",
    "        'lr__solver': ['newton-cg', 'lbfgs', 'liblinear', 'sag', 'saga']}\n",
    "                "
   ]
  },
  {
   "cell_type": "code",
   "execution_count": 32,
   "metadata": {},
   "outputs": [],
   "source": [
    "#Set the GridSearchCV with the grid of parameters\n",
    "gs_lr = GridSearchCV(pipe_lr, param_grid= grid_lr,\n",
    "                     scoring='accuracy', cv=cv) "
   ]
  },
  {
   "cell_type": "code",
   "execution_count": 33,
   "metadata": {
    "scrolled": false
   },
   "outputs": [
    {
     "name": "stdout",
     "output_type": "stream",
     "text": [
      "\n",
      "Estimator is Logistic Regression with Cross Validation\n",
      "------------------------------\n",
      "Best params {'lr__C': 0.7, 'lr__penalty': 'l1', 'lr__solver': 'liblinear'}\n",
      "best score is 0.8915078775584029\n",
      "ROC_AUC is 0.8836591408075329\n",
      "Accuracy rate is 0.8681853367245383\n",
      "------------------------------\n",
      "It took 1233.337 seconds\n"
     ]
    }
   ],
   "source": [
    "#Fit the model and get the scores\n",
    "\n",
    "start = time.time()\n",
    "print()\n",
    "        \n",
    "print(f'Estimator is Logistic Regression with Cross Validation')\n",
    "gs_lr.fit(X_train_sm, y_train_sm)\n",
    "print(f'-'*30)\n",
    "print(f'Best params {gs_lr.best_params_}')\n",
    "print(f'best score is {gs_lr.best_score_}')\n",
    "auc = roc_auc_score(y_test, gs_lr.predict_proba(X_test)[:,1])\n",
    "print(f'ROC_AUC is {auc}')\n",
    "print(f'Accuracy rate is {gs_lr.score(X_test, y_test)}')\n",
    "print(f'-'*30)\n",
    "end = time.time()\n",
    "print(f'It took {round(end - start, 3)} seconds')\n",
    "result_acc[\"Logistic Regression\"] = gs_lr.best_score_\n",
    "log_auc = auc"
   ]
  },
  {
   "cell_type": "markdown",
   "metadata": {},
   "source": [
    "## KN Nearest Neighbor"
   ]
  },
  {
   "cell_type": "markdown",
   "metadata": {},
   "source": [
    "For KN Nearest Neighbor, for the n_neighbors I will use the square root of the amount of my sample. This is one of the rules of thumb when establishing the number of neighbors."
   ]
  },
  {
   "cell_type": "code",
   "execution_count": 34,
   "metadata": {},
   "outputs": [],
   "source": [
    "#Kn Nearest Neighbor using pipeline\n",
    "pipe_knn = Pipeline([('knn', KNeighborsClassifier(n_neighbors=177, n_jobs=n_jobs))])"
   ]
  },
  {
   "cell_type": "code",
   "execution_count": 35,
   "metadata": {
    "scrolled": false
   },
   "outputs": [
    {
     "name": "stdout",
     "output_type": "stream",
     "text": [
      "\n",
      "Estimator is KNeighborsClassifier\n",
      "------------------------------\n",
      "ROC_AUC is 0.9023900766674886\n",
      "Accuracy rate is 0.7645692801061594\n",
      "------------------------------\n",
      "It took 36.038 seconds\n"
     ]
    }
   ],
   "source": [
    " #Fit the model and get the scores\n",
    "start = time.time()\n",
    "print()\n",
    "        \n",
    "print(f'Estimator is KNeighborsClassifier')\n",
    "pipe_knn.fit(X_train_sm, y_train_sm)\n",
    "print(f'-'*30)\n",
    "auc = roc_auc_score(y_test, pipe_knn.predict_proba(X_test)[:,1])\n",
    "print(f'ROC_AUC is {auc}')\n",
    "print(f'Accuracy rate is {pipe_knn.score(X_test, y_test)}')\n",
    "print(f'-'*30)\n",
    "end = time.time()\n",
    "print(f'It took {round(end - start, 3)} seconds')\n",
    "\n",
    "       "
   ]
  },
  {
   "cell_type": "markdown",
   "metadata": {},
   "source": [
    "### KN Nearest Neighbor with cross validation"
   ]
  },
  {
   "cell_type": "code",
   "execution_count": 36,
   "metadata": {
    "scrolled": true
   },
   "outputs": [
    {
     "name": "stdout",
     "output_type": "stream",
     "text": [
      "{'memory': None, 'steps': [('knn', KNeighborsClassifier(n_jobs=-1, n_neighbors=177))], 'verbose': False, 'knn': KNeighborsClassifier(n_jobs=-1, n_neighbors=177), 'knn__algorithm': 'auto', 'knn__leaf_size': 30, 'knn__metric': 'minkowski', 'knn__metric_params': None, 'knn__n_jobs': -1, 'knn__n_neighbors': 177, 'knn__p': 2, 'knn__weights': 'uniform'}\n"
     ]
    }
   ],
   "source": [
    "#Get the parameters for the model\n",
    "from sklearn.base import BaseEstimator\n",
    "\n",
    "print(pipe_knn.get_params())"
   ]
  },
  {
   "cell_type": "code",
   "execution_count": 37,
   "metadata": {},
   "outputs": [],
   "source": [
    "#Set the parameters for cross validation\n",
    "grid_knn = [{'knn__n_neighbors': [150, 177, 190],\n",
    "                    'knn__metric': ['minkowski'],\n",
    "                    'knn__algorithm': ['auto', 'ball_tree', 'kd_tree', 'brute'],\n",
    "                    'knn__weights': ['uniform', 'distance']}]"
   ]
  },
  {
   "cell_type": "code",
   "execution_count": 38,
   "metadata": {},
   "outputs": [],
   "source": [
    "#Set the GridSearchCV with the grid of parameters\n",
    "gs_knn = GridSearchCV(pipe_knn, param_grid=grid_knn,\n",
    "                     scoring='accuracy', cv=cv)"
   ]
  },
  {
   "cell_type": "code",
   "execution_count": 39,
   "metadata": {},
   "outputs": [
    {
     "name": "stdout",
     "output_type": "stream",
     "text": [
      "\n",
      "Estimator is KNeighborsClassifier with GridSearchCV\n",
      "------------------------------\n",
      "Best params {'knn__algorithm': 'auto', 'knn__metric': 'minkowski', 'knn__n_neighbors': 150, 'knn__weights': 'distance'}\n",
      "best score is 0.8616302331981478\n",
      "ROC_AUC is 0.9032752750284714\n",
      "Accuracy rate is 0.7721994913192525\n",
      "------------------------------\n",
      "It took 2252.402 seconds\n"
     ]
    }
   ],
   "source": [
    " #Fit the model and get the scores\n",
    "start = time.time()\n",
    "print()\n",
    "        \n",
    "print(f'Estimator is KNeighborsClassifier with GridSearchCV')\n",
    "gs_knn.fit(X_train_sm, y_train_sm)\n",
    "print(f'-'*30)\n",
    "print(f'Best params {gs_knn.best_params_}')\n",
    "print(f'best score is {gs_knn.best_score_}')\n",
    "auc = roc_auc_score(y_test, gs_knn.predict_proba(X_test)[:,1])\n",
    "print(f'ROC_AUC is {auc}')\n",
    "print(f'Accuracy rate is {gs_knn.score(X_test, y_test)}')\n",
    "print(f'-'*30)\n",
    "end = time.time()\n",
    "print(f'It took {round(end - start, 3)} seconds')\n",
    "result_acc[\"KNeighbors\"] = gs_knn.best_score_\n",
    "kn_auc = auc"
   ]
  },
  {
   "cell_type": "markdown",
   "metadata": {},
   "source": [
    "## Decision Trees"
   ]
  },
  {
   "cell_type": "code",
   "execution_count": 40,
   "metadata": {},
   "outputs": [],
   "source": [
    "#Decision Tree using Pipeline\n",
    "pipe_dt = Pipeline([('dt', DecisionTreeClassifier(random_state=random_state, max_features='auto'))])"
   ]
  },
  {
   "cell_type": "code",
   "execution_count": 41,
   "metadata": {
    "scrolled": false
   },
   "outputs": [
    {
     "name": "stdout",
     "output_type": "stream",
     "text": [
      "\n",
      "Estimator is Decision Trees Classifier\n",
      "------------------------------\n",
      "ROC_AUC is 0.7043368203538679\n",
      "Accuracy rate is 0.8532566626119651\n",
      "------------------------------\n",
      "It took 0.173 seconds\n"
     ]
    }
   ],
   "source": [
    " #Fit the model and get the scores\n",
    "start = time.time()\n",
    "print()\n",
    "        \n",
    "print(f'Estimator is Decision Trees Classifier')\n",
    "pipe_dt.fit(X_train_sm, y_train_sm)\n",
    "print(f'-'*30)\n",
    "auc = roc_auc_score(y_test, pipe_dt.predict_proba(X_test)[:,1])\n",
    "print(f'ROC_AUC is {auc}')\n",
    "print(f'Accuracy rate is {pipe_dt.score(X_test, y_test)}')\n",
    "print(f'-'*30)\n",
    "end = time.time()\n",
    "print(f'It took {round(end - start, 3)} seconds')"
   ]
  },
  {
   "cell_type": "markdown",
   "metadata": {},
   "source": [
    "### Decision Tree with Cross Validation"
   ]
  },
  {
   "cell_type": "code",
   "execution_count": 42,
   "metadata": {},
   "outputs": [
    {
     "name": "stdout",
     "output_type": "stream",
     "text": [
      "{'memory': None, 'steps': [('dt', DecisionTreeClassifier(max_features='auto', random_state=42))], 'verbose': False, 'dt': DecisionTreeClassifier(max_features='auto', random_state=42), 'dt__ccp_alpha': 0.0, 'dt__class_weight': None, 'dt__criterion': 'gini', 'dt__max_depth': None, 'dt__max_features': 'auto', 'dt__max_leaf_nodes': None, 'dt__min_impurity_decrease': 0.0, 'dt__min_impurity_split': None, 'dt__min_samples_leaf': 1, 'dt__min_samples_split': 2, 'dt__min_weight_fraction_leaf': 0.0, 'dt__random_state': 42, 'dt__splitter': 'best'}\n"
     ]
    }
   ],
   "source": [
    "#Get the parameters for the model\n",
    "from sklearn.base import BaseEstimator\n",
    "\n",
    "print(pipe_dt.get_params())"
   ]
  },
  {
   "cell_type": "code",
   "execution_count": 43,
   "metadata": {},
   "outputs": [],
   "source": [
    "#Set the parameters for cross validation\n",
    "grid_dt = [{'dt__criterion': ['gini', 'entropy'],\n",
    "            'dt__max_depth': [8, 10],\n",
    "            'dt__min_samples_leaf': [1, 3, 5, 7]}]"
   ]
  },
  {
   "cell_type": "code",
   "execution_count": 44,
   "metadata": {},
   "outputs": [],
   "source": [
    "#Set the GridSearchCV with the grid of parameters\n",
    "gs_dt = GridSearchCV(pipe_dt, param_grid=grid_dt,\n",
    "                     scoring='accuracy', cv=cv)"
   ]
  },
  {
   "cell_type": "code",
   "execution_count": 45,
   "metadata": {},
   "outputs": [
    {
     "name": "stdout",
     "output_type": "stream",
     "text": [
      "\n",
      "Classifier is Decision Trees with GridSearchCV\n",
      "------------------------------\n",
      "Best params {'dt__criterion': 'gini', 'dt__max_depth': 10, 'dt__min_samples_leaf': 5}\n",
      "best score is 0.8476854212964902\n",
      "ROC_AUC is 0.86635835299919\n",
      "Accuracy rate is 0.8412031405507022\n",
      "------------------------------\n",
      "It took 7.062 seconds\n"
     ]
    }
   ],
   "source": [
    " #Fit the model and get the scores\n",
    "start = time.time()\n",
    "print()\n",
    "        \n",
    "print(f'Classifier is Decision Trees with GridSearchCV')\n",
    "gs_dt.fit(X_train_sm, y_train_sm)\n",
    "print(f'-'*30)\n",
    "print(f'Best params {gs_dt.best_params_}')\n",
    "print(f'best score is {gs_dt.best_score_}')\n",
    "auc = roc_auc_score(y_test, gs_dt.predict_proba(X_test)[:,1])\n",
    "print(f'ROC_AUC is {auc}')\n",
    "print(f'Accuracy rate is {gs_dt.score(X_test, y_test)}')\n",
    "print(f'-'*30)\n",
    "end = time.time()\n",
    "print(f'It took {round(end - start, 3)} seconds')\n",
    "result_acc[\"Decision Tree\"] = gs_dt.best_score_\n",
    "dt_auc = auc"
   ]
  },
  {
   "cell_type": "markdown",
   "metadata": {},
   "source": [
    "## Random Forest"
   ]
  },
  {
   "cell_type": "code",
   "execution_count": 46,
   "metadata": {},
   "outputs": [],
   "source": [
    "pipe_rf = Pipeline([('rf', RandomForestClassifier(random_state=random_state, n_jobs=n_jobs))])"
   ]
  },
  {
   "cell_type": "code",
   "execution_count": 47,
   "metadata": {
    "scrolled": true
   },
   "outputs": [
    {
     "name": "stdout",
     "output_type": "stream",
     "text": [
      "\n",
      "Estimator is Random Forest Classifier\n",
      "------------------------------\n",
      "ROC_AUC is 0.9085343947025466\n",
      "Accuracy rate is 0.8875373216852814\n",
      "------------------------------\n",
      "It took 2.427 seconds\n"
     ]
    }
   ],
   "source": [
    "#Fit the model and get the scores\n",
    "start = time.time()\n",
    "print()\n",
    "        \n",
    "print(f'Estimator is Random Forest Classifier')\n",
    "pipe_rf.fit(X_train_sm, y_train_sm)\n",
    "print(f'-'*30)\n",
    "auc = roc_auc_score(y_test, pipe_rf.predict_proba(X_test)[:,1])\n",
    "print(f'ROC_AUC is {auc}')\n",
    "print(f'Accuracy rate is {pipe_rf.score(X_test, y_test)}')\n",
    "print(f'-'*30)\n",
    "end = time.time()\n",
    "print(f'It took {round(end - start, 3)} seconds')\n",
    "\n",
    "       "
   ]
  },
  {
   "cell_type": "markdown",
   "metadata": {},
   "source": [
    "### Random Forest with Cross Validation"
   ]
  },
  {
   "cell_type": "code",
   "execution_count": 48,
   "metadata": {},
   "outputs": [
    {
     "name": "stdout",
     "output_type": "stream",
     "text": [
      "{'memory': None, 'steps': [('rf', RandomForestClassifier(n_jobs=-1, random_state=42))], 'verbose': False, 'rf': RandomForestClassifier(n_jobs=-1, random_state=42), 'rf__bootstrap': True, 'rf__ccp_alpha': 0.0, 'rf__class_weight': None, 'rf__criterion': 'gini', 'rf__max_depth': None, 'rf__max_features': 'auto', 'rf__max_leaf_nodes': None, 'rf__max_samples': None, 'rf__min_impurity_decrease': 0.0, 'rf__min_impurity_split': None, 'rf__min_samples_leaf': 1, 'rf__min_samples_split': 2, 'rf__min_weight_fraction_leaf': 0.0, 'rf__n_estimators': 100, 'rf__n_jobs': -1, 'rf__oob_score': False, 'rf__random_state': 42, 'rf__verbose': 0, 'rf__warm_start': False}\n"
     ]
    }
   ],
   "source": [
    "#Get the parameters for the model\n",
    "from sklearn.base import BaseEstimator\n",
    "\n",
    "print(pipe_rf.get_params())"
   ]
  },
  {
   "cell_type": "code",
   "execution_count": 49,
   "metadata": {},
   "outputs": [],
   "source": [
    "#Set the parameters for cross validation\n",
    "grid_rf = [{'rf__criterion': ['gini', 'entropy'],\n",
    "            'rf__min_samples_leaf': [80, 100],\n",
    "            'rf__max_depth': [15, 27],\n",
    "            'rf__min_samples_split': [2, 5],\n",
    "            'rf__n_estimators' : [50, 60, 70]}]"
   ]
  },
  {
   "cell_type": "code",
   "execution_count": 50,
   "metadata": {},
   "outputs": [],
   "source": [
    "#Set the GridSearchCV with the grid of parameters\n",
    "gs_rf = GridSearchCV(pipe_rf, param_grid=grid_rf,\n",
    "                     scoring='accuracy', cv=cv)"
   ]
  },
  {
   "cell_type": "code",
   "execution_count": 51,
   "metadata": {},
   "outputs": [
    {
     "name": "stdout",
     "output_type": "stream",
     "text": [
      "\n",
      "Estimator is RandomForestClassifier with GridSearchCV\n",
      "------------------------------\n",
      "Best params {'rf__criterion': 'entropy', 'rf__max_depth': 27, 'rf__min_samples_leaf': 80, 'rf__min_samples_split': 2, 'rf__n_estimators': 70}\n",
      "best score is 0.8923686378415363\n",
      "ROC_AUC is 0.9069633569323613\n",
      "Accuracy rate is 0.854583655866416\n",
      "------------------------------\n",
      "It took 244.324 seconds\n"
     ]
    }
   ],
   "source": [
    "#Fit the model and get the scores\n",
    "start = time.time()\n",
    "print()\n",
    "        \n",
    "print(f'Estimator is RandomForestClassifier with GridSearchCV')\n",
    "gs_rf.fit(X_train_sm, y_train_sm)\n",
    "print(f'-'*30)\n",
    "print(f'Best params {gs_rf.best_params_}')\n",
    "print(f'best score is {gs_rf.best_score_}')\n",
    "auc = roc_auc_score(y_test, gs_rf.predict_proba(X_test)[:,1])\n",
    "print(f'ROC_AUC is {auc}')\n",
    "print(f'Accuracy rate is {gs_rf.score(X_test, y_test)}')\n",
    "print(f'-'*30)\n",
    "end = time.time()\n",
    "print(f'It took {round(end - start, 3)} seconds')\n",
    "result_acc['Random Forest'] = gs_rf.best_score_\n",
    "rf_auc = auc"
   ]
  },
  {
   "cell_type": "code",
   "execution_count": 52,
   "metadata": {},
   "outputs": [
    {
     "name": "stdout",
     "output_type": "stream",
     "text": [
      "{'Logistic Regression': 0.8915078775584029, 'KNeighbors': 0.8616302331981478, 'Decision Tree': 0.8476854212964902, 'Random Forest': 0.8923686378415363}\n"
     ]
    }
   ],
   "source": [
    "print(result_acc)"
   ]
  },
  {
   "cell_type": "code",
   "execution_count": 64,
   "metadata": {},
   "outputs": [],
   "source": [
    "results = {'Classifiers': ['Logistic Reg.','KNN', 'Dec Tree', 'Random Forest'], \n",
    "    'ROC_AUC Scores': [log_auc, kn_auc, dt_auc, rf_auc]}"
   ]
  },
  {
   "cell_type": "code",
   "execution_count": 65,
   "metadata": {},
   "outputs": [],
   "source": [
    "table = pd.DataFrame(results)"
   ]
  },
  {
   "cell_type": "code",
   "execution_count": 66,
   "metadata": {},
   "outputs": [
    {
     "data": {
      "text/html": [
       "<div>\n",
       "<style scoped>\n",
       "    .dataframe tbody tr th:only-of-type {\n",
       "        vertical-align: middle;\n",
       "    }\n",
       "\n",
       "    .dataframe tbody tr th {\n",
       "        vertical-align: top;\n",
       "    }\n",
       "\n",
       "    .dataframe thead th {\n",
       "        text-align: right;\n",
       "    }\n",
       "</style>\n",
       "<table border=\"1\" class=\"dataframe\">\n",
       "  <thead>\n",
       "    <tr style=\"text-align: right;\">\n",
       "      <th></th>\n",
       "      <th>Classifiers</th>\n",
       "      <th>ROC_AUC Scores</th>\n",
       "    </tr>\n",
       "  </thead>\n",
       "  <tbody>\n",
       "    <tr>\n",
       "      <th>0</th>\n",
       "      <td>Logistic Reg.</td>\n",
       "      <td>0.883659</td>\n",
       "    </tr>\n",
       "    <tr>\n",
       "      <th>1</th>\n",
       "      <td>KNN</td>\n",
       "      <td>0.903275</td>\n",
       "    </tr>\n",
       "    <tr>\n",
       "      <th>2</th>\n",
       "      <td>Dec Tree</td>\n",
       "      <td>0.866358</td>\n",
       "    </tr>\n",
       "    <tr>\n",
       "      <th>3</th>\n",
       "      <td>Random Forest</td>\n",
       "      <td>0.906963</td>\n",
       "    </tr>\n",
       "  </tbody>\n",
       "</table>\n",
       "</div>"
      ],
      "text/plain": [
       "     Classifiers  ROC_AUC Scores\n",
       "0  Logistic Reg.        0.883659\n",
       "1            KNN        0.903275\n",
       "2       Dec Tree        0.866358\n",
       "3  Random Forest        0.906963"
      ]
     },
     "execution_count": 66,
     "metadata": {},
     "output_type": "execute_result"
    }
   ],
   "source": [
    "table"
   ]
  },
  {
   "cell_type": "markdown",
   "metadata": {},
   "source": [
    "The best Classifier is Random Forest."
   ]
  },
  {
   "cell_type": "markdown",
   "metadata": {},
   "source": [
    "Lets plot the the ROC Curve with the AUC scores for the random forest predictions"
   ]
  },
  {
   "cell_type": "code",
   "execution_count": 60,
   "metadata": {
    "scrolled": true
   },
   "outputs": [
    {
     "data": {
      "image/png": "[encoded data removed]",
      "text/plain": [
       "<Figure size 432x288 with 1 Axes>"
      ]
     },
     "metadata": {},
     "output_type": "display_data"
    }
   ],
   "source": [
    "y_probs_train = gs_rf.predict_proba(X_train_sm)\n",
    "y_probs_test = gs_rf.predict_proba(X_test)\n",
    "y_predicted_train = gs_rf.predict(X_train_sm)\n",
    "y_predicted_test = gs_rf.predict(X_test)\n",
    "\n",
    "\n",
    "# keep probabilities for the positive outcome only\n",
    "y_probs_train = y_probs_train[:, 1]\n",
    "y_probs_test = y_probs_test[:, 1]\n",
    "\n",
    "\n",
    "# calculate roc curve\n",
    "train_fpr, train_tpr, train_thresholds = roc_curve(y_train_sm, y_probs_train)\n",
    "test_fpr, test_tpr, test_thresholds = roc_curve(y_test, y_probs_test)\n",
    "plt.plot([0, 1], [0, 1], linestyle='--')\n",
    "\n",
    "# plot the roc curve for the model\n",
    "plt.plot(train_fpr, train_tpr, label='Train AUC')\n",
    "plt.plot(test_fpr, test_tpr, label='Test AUC')\n",
    "plt.legend()\n",
    "plt.xlabel(\"False Positive Rate\")\n",
    "plt.ylabel(\"True Positive Rate\")\n",
    "plt.title(\"ROC Curve\")\n",
    "plt.show()"
   ]
  },
  {
   "cell_type": "markdown",
   "metadata": {},
   "source": [
    "Plot the Confusion Matrix for the train set"
   ]
  },
  {
   "cell_type": "code",
   "execution_count": 63,
   "metadata": {
    "scrolled": true
   },
   "outputs": [
    {
     "name": "stdout",
     "output_type": "stream",
     "text": [
      "Confusion matrix:\n",
      " [[27833  4114]\n",
      " [ 2480 29467]]\n"
     ]
    },
    {
     "data": {
      "text/plain": [
       "<matplotlib.axes._subplots.AxesSubplot at 0x23d9cb96370>"
      ]
     },
     "execution_count": 63,
     "metadata": {},
     "output_type": "execute_result"
    },
    {
     "data": {
      "image/png": "[encoded data removed]",
      "text/plain": [
       "<Figure size 360x360 with 2 Axes>"
      ]
     },
     "metadata": {},
     "output_type": "display_data"
    }
   ],
   "source": [
    "from sklearn.metrics import confusion_matrix\n",
    "\n",
    "cma = confusion_matrix(y_train_sm, y_predicted_train)\n",
    "print('Confusion matrix:\\n', cma)\n",
    "df_cm = pd.DataFrame(cma, range(2), columns=range(2))\n",
    "plt.figure(figsize = (5,5))\n",
    "sns.heatmap(df_cm, annot=True,annot_kws={\"size\": 16}, fmt='g')"
   ]
  },
  {
   "cell_type": "markdown",
   "metadata": {},
   "source": [
    "PLot the confusion matrix for the test set"
   ]
  },
  {
   "cell_type": "code",
   "execution_count": 62,
   "metadata": {},
   "outputs": [
    {
     "name": "stdout",
     "output_type": "stream",
     "text": [
      "Confusion matrix:\n",
      " [[6878 1097]\n",
      " [ 218  850]]\n"
     ]
    },
    {
     "data": {
      "text/plain": [
       "<matplotlib.axes._subplots.AxesSubplot at 0x23d817c20a0>"
      ]
     },
     "execution_count": 62,
     "metadata": {},
     "output_type": "execute_result"
    },
    {
     "data": {
      "image/png": "[encoded data removed]",
      "text/plain": [
       "<Figure size 360x360 with 2 Axes>"
      ]
     },
     "metadata": {},
     "output_type": "display_data"
    }
   ],
   "source": [
    "from sklearn.metrics import confusion_matrix\n",
    "\n",
    "cma = confusion_matrix(y_test, y_predicted_test)\n",
    "print('Confusion matrix:\\n', cma)\n",
    "df_cm = pd.DataFrame(cma, range(2), columns=range(2))\n",
    "plt.figure(figsize = (5,5))\n",
    "sns.heatmap(df_cm, annot=True,annot_kws={\"size\": 16}, fmt='g')"
   ]
  },
  {
   "cell_type": "code",
   "execution_count": null,
   "metadata": {},
   "outputs": [],
   "source": []
  }
 ],
 "metadata": {
  "kernelspec": {
   "display_name": "Python 3",
   "language": "python",
   "name": "python3"
  },
  "language_info": {
   "codemirror_mode": {
    "name": "ipython",
    "version": 3
   },
   "file_extension": ".py",
   "mimetype": "text/x-python",
   "name": "python",
   "nbconvert_exporter": "python",
   "pygments_lexer": "ipython3",
   "version": "3.8.3"
  },
  "toc": {
   "base_numbering": 1,
   "nav_menu": {},
   "number_sections": true,
   "sideBar": true,
   "skip_h1_title": false,
   "title_cell": "Table of Contents",
   "title_sidebar": "Contents",
   "toc_cell": false,
   "toc_position": {},
   "toc_section_display": true,
   "toc_window_display": false
  },
  "varInspector": {
   "cols": {
    "lenName": 16,
    "lenType": 16,
    "lenVar": 40
   },
   "kernels_config": {
    "python": {
     "delete_cmd_postfix": "",
     "delete_cmd_prefix": "del ",
     "library": "var_list.py",
     "varRefreshCmd": "print(var_dic_list())"
    },
    "r": {
     "delete_cmd_postfix": ") ",
     "delete_cmd_prefix": "rm(",
     "library": "var_list.r",
     "varRefreshCmd": "cat(var_dic_list()) "
    }
   },
   "types_to_exclude": [
    "module",
    "function",
    "builtin_function_or_method",
    "instance",
    "_Feature"
   ],
   "window_display": false
  }
 },
 "nbformat": 4,
 "nbformat_minor": 4
}
