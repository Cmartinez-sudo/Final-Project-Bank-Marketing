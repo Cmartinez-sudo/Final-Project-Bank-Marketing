{
 "cells": [
  {
   "cell_type": "code",
   "execution_count": 1,
   "metadata": {},
   "outputs": [],
   "source": [
    "import pandas as pd\n",
    "import pandas_profiling \n",
    "import numpy as np\n",
    "import matplotlib.pyplot as plt\n",
    "import seaborn as sns\n",
    "%matplotlib inline\n"
   ]
  },
  {
   "cell_type": "code",
   "execution_count": 2,
   "metadata": {},
   "outputs": [],
   "source": [
    "bank = pd.read_csv(\"../Data/bank-full.csv\", sep=\";\")"
   ]
  },
  {
   "cell_type": "code",
   "execution_count": 3,
   "metadata": {},
   "outputs": [],
   "source": [
    "#Making some copies just in case\n",
    "bank_1 = bank.copy()\n",
    "bank_2 = bank.copy()"
   ]
  },
  {
   "cell_type": "code",
   "execution_count": 4,
   "metadata": {
    "scrolled": true
   },
   "outputs": [
    {
     "data": {
      "text/html": [
       "<div>\n",
       "<style scoped>\n",
       "    .dataframe tbody tr th:only-of-type {\n",
       "        vertical-align: middle;\n",
       "    }\n",
       "\n",
       "    .dataframe tbody tr th {\n",
       "        vertical-align: top;\n",
       "    }\n",
       "\n",
       "    .dataframe thead th {\n",
       "        text-align: right;\n",
       "    }\n",
       "</style>\n",
       "<table border=\"1\" class=\"dataframe\">\n",
       "  <thead>\n",
       "    <tr style=\"text-align: right;\">\n",
       "      <th></th>\n",
       "      <th>age</th>\n",
       "      <th>job</th>\n",
       "      <th>marital</th>\n",
       "      <th>education</th>\n",
       "      <th>default</th>\n",
       "      <th>balance</th>\n",
       "      <th>housing</th>\n",
       "      <th>loan</th>\n",
       "      <th>contact</th>\n",
       "      <th>day</th>\n",
       "      <th>month</th>\n",
       "      <th>duration</th>\n",
       "      <th>campaign</th>\n",
       "      <th>pdays</th>\n",
       "      <th>previous</th>\n",
       "      <th>poutcome</th>\n",
       "      <th>y</th>\n",
       "    </tr>\n",
       "  </thead>\n",
       "  <tbody>\n",
       "    <tr>\n",
       "      <th>0</th>\n",
       "      <td>58</td>\n",
       "      <td>management</td>\n",
       "      <td>married</td>\n",
       "      <td>tertiary</td>\n",
       "      <td>no</td>\n",
       "      <td>2143</td>\n",
       "      <td>yes</td>\n",
       "      <td>no</td>\n",
       "      <td>unknown</td>\n",
       "      <td>5</td>\n",
       "      <td>may</td>\n",
       "      <td>261</td>\n",
       "      <td>1</td>\n",
       "      <td>-1</td>\n",
       "      <td>0</td>\n",
       "      <td>unknown</td>\n",
       "      <td>no</td>\n",
       "    </tr>\n",
       "    <tr>\n",
       "      <th>1</th>\n",
       "      <td>44</td>\n",
       "      <td>technician</td>\n",
       "      <td>single</td>\n",
       "      <td>secondary</td>\n",
       "      <td>no</td>\n",
       "      <td>29</td>\n",
       "      <td>yes</td>\n",
       "      <td>no</td>\n",
       "      <td>unknown</td>\n",
       "      <td>5</td>\n",
       "      <td>may</td>\n",
       "      <td>151</td>\n",
       "      <td>1</td>\n",
       "      <td>-1</td>\n",
       "      <td>0</td>\n",
       "      <td>unknown</td>\n",
       "      <td>no</td>\n",
       "    </tr>\n",
       "    <tr>\n",
       "      <th>2</th>\n",
       "      <td>33</td>\n",
       "      <td>entrepreneur</td>\n",
       "      <td>married</td>\n",
       "      <td>secondary</td>\n",
       "      <td>no</td>\n",
       "      <td>2</td>\n",
       "      <td>yes</td>\n",
       "      <td>yes</td>\n",
       "      <td>unknown</td>\n",
       "      <td>5</td>\n",
       "      <td>may</td>\n",
       "      <td>76</td>\n",
       "      <td>1</td>\n",
       "      <td>-1</td>\n",
       "      <td>0</td>\n",
       "      <td>unknown</td>\n",
       "      <td>no</td>\n",
       "    </tr>\n",
       "    <tr>\n",
       "      <th>3</th>\n",
       "      <td>47</td>\n",
       "      <td>blue-collar</td>\n",
       "      <td>married</td>\n",
       "      <td>unknown</td>\n",
       "      <td>no</td>\n",
       "      <td>1506</td>\n",
       "      <td>yes</td>\n",
       "      <td>no</td>\n",
       "      <td>unknown</td>\n",
       "      <td>5</td>\n",
       "      <td>may</td>\n",
       "      <td>92</td>\n",
       "      <td>1</td>\n",
       "      <td>-1</td>\n",
       "      <td>0</td>\n",
       "      <td>unknown</td>\n",
       "      <td>no</td>\n",
       "    </tr>\n",
       "    <tr>\n",
       "      <th>4</th>\n",
       "      <td>33</td>\n",
       "      <td>unknown</td>\n",
       "      <td>single</td>\n",
       "      <td>unknown</td>\n",
       "      <td>no</td>\n",
       "      <td>1</td>\n",
       "      <td>no</td>\n",
       "      <td>no</td>\n",
       "      <td>unknown</td>\n",
       "      <td>5</td>\n",
       "      <td>may</td>\n",
       "      <td>198</td>\n",
       "      <td>1</td>\n",
       "      <td>-1</td>\n",
       "      <td>0</td>\n",
       "      <td>unknown</td>\n",
       "      <td>no</td>\n",
       "    </tr>\n",
       "  </tbody>\n",
       "</table>\n",
       "</div>"
      ],
      "text/plain": [
       "   age           job  marital  education default  balance housing loan  \\\n",
       "0   58    management  married   tertiary      no     2143     yes   no   \n",
       "1   44    technician   single  secondary      no       29     yes   no   \n",
       "2   33  entrepreneur  married  secondary      no        2     yes  yes   \n",
       "3   47   blue-collar  married    unknown      no     1506     yes   no   \n",
       "4   33       unknown   single    unknown      no        1      no   no   \n",
       "\n",
       "   contact  day month  duration  campaign  pdays  previous poutcome   y  \n",
       "0  unknown    5   may       261         1     -1         0  unknown  no  \n",
       "1  unknown    5   may       151         1     -1         0  unknown  no  \n",
       "2  unknown    5   may        76         1     -1         0  unknown  no  \n",
       "3  unknown    5   may        92         1     -1         0  unknown  no  \n",
       "4  unknown    5   may       198         1     -1         0  unknown  no  "
      ]
     },
     "execution_count": 4,
     "metadata": {},
     "output_type": "execute_result"
    }
   ],
   "source": [
    "bank.head(5)"
   ]
  },
  {
   "cell_type": "markdown",
   "metadata": {},
   "source": [
    "Check for missing values"
   ]
  },
  {
   "cell_type": "code",
   "execution_count": 5,
   "metadata": {},
   "outputs": [
    {
     "data": {
      "text/plain": [
       "age          0\n",
       "job          0\n",
       "marital      0\n",
       "education    0\n",
       "default      0\n",
       "balance      0\n",
       "housing      0\n",
       "loan         0\n",
       "contact      0\n",
       "day          0\n",
       "month        0\n",
       "duration     0\n",
       "campaign     0\n",
       "pdays        0\n",
       "previous     0\n",
       "poutcome     0\n",
       "y            0\n",
       "dtype: int64"
      ]
     },
     "execution_count": 5,
     "metadata": {},
     "output_type": "execute_result"
    }
   ],
   "source": [
    "bank.isna().sum()"
   ]
  },
  {
   "cell_type": "markdown",
   "metadata": {},
   "source": [
    "There are no missing values."
   ]
  },
  {
   "cell_type": "code",
   "execution_count": 6,
   "metadata": {},
   "outputs": [
    {
     "name": "stdout",
     "output_type": "stream",
     "text": [
      "<class 'pandas.core.frame.DataFrame'>\n",
      "RangeIndex: 45211 entries, 0 to 45210\n",
      "Data columns (total 17 columns):\n",
      " #   Column     Non-Null Count  Dtype \n",
      "---  ------     --------------  ----- \n",
      " 0   age        45211 non-null  int64 \n",
      " 1   job        45211 non-null  object\n",
      " 2   marital    45211 non-null  object\n",
      " 3   education  45211 non-null  object\n",
      " 4   default    45211 non-null  object\n",
      " 5   balance    45211 non-null  int64 \n",
      " 6   housing    45211 non-null  object\n",
      " 7   loan       45211 non-null  object\n",
      " 8   contact    45211 non-null  object\n",
      " 9   day        45211 non-null  int64 \n",
      " 10  month      45211 non-null  object\n",
      " 11  duration   45211 non-null  int64 \n",
      " 12  campaign   45211 non-null  int64 \n",
      " 13  pdays      45211 non-null  int64 \n",
      " 14  previous   45211 non-null  int64 \n",
      " 15  poutcome   45211 non-null  object\n",
      " 16  y          45211 non-null  object\n",
      "dtypes: int64(7), object(10)\n",
      "memory usage: 5.9+ MB\n"
     ]
    }
   ],
   "source": [
    "bank.info()"
   ]
  },
  {
   "cell_type": "code",
   "execution_count": 7,
   "metadata": {},
   "outputs": [],
   "source": [
    "bank.pdays = bank.pdays.replace(-1, 0)"
   ]
  },
  {
   "cell_type": "code",
   "execution_count": 8,
   "metadata": {},
   "outputs": [],
   "source": [
    "bank[\"contact\"].replace({\"unknown\": \"telephone\"}, inplace=True)"
   ]
  },
  {
   "cell_type": "code",
   "execution_count": 9,
   "metadata": {},
   "outputs": [],
   "source": [
    "bank[\"poutcome\"].replace({\"other\": \"unknown\"}, inplace=True)"
   ]
  },
  {
   "cell_type": "code",
   "execution_count": 10,
   "metadata": {},
   "outputs": [],
   "source": [
    "df_cat = bank.select_dtypes(\"object\")\n",
    "\n",
    "df_num = bank.select_dtypes(\"number\")"
   ]
  },
  {
   "cell_type": "code",
   "execution_count": 11,
   "metadata": {
    "scrolled": false
   },
   "outputs": [
    {
     "data": {
      "image/png": "[encoded data removed]",
      "text/plain": [
       "<Figure size 432x288 with 1 Axes>"
      ]
     },
     "metadata": {
      "needs_background": "light"
     },
     "output_type": "display_data"
    },
    {
     "data": {
      "image/png": "[encoded data removed]",
      "text/plain": [
       "<Figure size 432x288 with 1 Axes>"
      ]
     },
     "metadata": {
      "needs_background": "light"
     },
     "output_type": "display_data"
    },
    {
     "data": {
      "image/png": "[encoded data removed]",
      "text/plain": [
       "<Figure size 432x288 with 1 Axes>"
      ]
     },
     "metadata": {
      "needs_background": "light"
     },
     "output_type": "display_data"
    },
    {
     "data": {
      "image/png": "[encoded data removed]",
      "text/plain": [
       "<Figure size 432x288 with 1 Axes>"
      ]
     },
     "metadata": {
      "needs_background": "light"
     },
     "output_type": "display_data"
    },
    {
     "data": {
      "image/png": "[encoded data removed]",
      "text/plain": [
       "<Figure size 432x288 with 1 Axes>"
      ]
     },
     "metadata": {
      "needs_background": "light"
     },
     "output_type": "display_data"
    },
    {
     "data": {
      "image/png": "[encoded data removed]",
      "text/plain": [
       "<Figure size 432x288 with 1 Axes>"
      ]
     },
     "metadata": {
      "needs_background": "light"
     },
     "output_type": "display_data"
    },
    {
     "data": {
      "image/png": "[encoded data removed]",
      "text/plain": [
       "<Figure size 432x288 with 1 Axes>"
      ]
     },
     "metadata": {
      "needs_background": "light"
     },
     "output_type": "display_data"
    }
   ],
   "source": [
    "# Displaying Numerical Columns\n",
    "for col in df_num.columns: \n",
    "    sns.distplot(df_num[col])\n",
    "    plt.show()\n"
   ]
  },
  {
   "cell_type": "markdown",
   "metadata": {},
   "source": [
    "## EDA of the categorical variables"
   ]
  },
  {
   "cell_type": "markdown",
   "metadata": {},
   "source": [
    "Define a function to plot with the target variable Yes or NO"
   ]
  },
  {
   "cell_type": "code",
   "execution_count": 12,
   "metadata": {},
   "outputs": [],
   "source": [
    "df_copy = bank.copy()"
   ]
  },
  {
   "cell_type": "code",
   "execution_count": 13,
   "metadata": {},
   "outputs": [],
   "source": [
    "def plot(column):\n",
    "    # temp df \n",
    "    temp_1 = pd.DataFrame()\n",
    "    # count categorical values\n",
    "    temp_1['No'] = df_copy[df_copy['y'] == 'no'][column].value_counts()\n",
    "    temp_1['Yes'] = df_copy[df_copy['y'] == 'yes'][column].value_counts()\n",
    "    temp_1.plot(kind='bar', color=('red', 'green'))\n",
    "    plt.xlabel(f'{column}')\n",
    "    plt.ylabel('Number of clients')\n",
    "    plt.title('Distribution of {} and term deposits'.format(column))\n",
    "    plt.show();"
   ]
  },
  {
   "cell_type": "markdown",
   "metadata": {},
   "source": [
    "Term Deposits"
   ]
  },
  {
   "cell_type": "code",
   "execution_count": 14,
   "metadata": {
    "scrolled": true
   },
   "outputs": [
    {
     "data": {
      "text/plain": [
       "Text(0.5, 0, 'Target class')"
      ]
     },
     "execution_count": 14,
     "metadata": {},
     "output_type": "execute_result"
    },
    {
     "data": {
      "image/png": "[encoded data removed]",
      "text/plain": [
       "<Figure size 432x288 with 1 Axes>"
      ]
     },
     "metadata": {
      "needs_background": "light"
     },
     "output_type": "display_data"
    }
   ],
   "source": [
    "sns.countplot(x=bank['y'])\n",
    "plt.xlabel('Target class')"
   ]
  },
  {
   "cell_type": "code",
   "execution_count": 15,
   "metadata": {},
   "outputs": [
    {
     "data": {
      "text/plain": [
       "no     0.883015\n",
       "yes    0.116985\n",
       "Name: y, dtype: float64"
      ]
     },
     "execution_count": 15,
     "metadata": {},
     "output_type": "execute_result"
    }
   ],
   "source": [
    "bank.y.value_counts()/len(bank.y)"
   ]
  },
  {
   "cell_type": "markdown",
   "metadata": {},
   "source": [
    "We have an imbalanced dataset. Over 80% of the target variable is for no. \n",
    "I will have to do something about this later on."
   ]
  },
  {
   "cell_type": "markdown",
   "metadata": {},
   "source": [
    "### Job Variable"
   ]
  },
  {
   "cell_type": "code",
   "execution_count": 16,
   "metadata": {
    "scrolled": false
   },
   "outputs": [
    {
     "data": {
      "image/png": "[encoded data removed]",
      "text/plain": [
       "<Figure size 432x288 with 1 Axes>"
      ]
     },
     "metadata": {
      "needs_background": "light"
     },
     "output_type": "display_data"
    }
   ],
   "source": [
    "plot('job')"
   ]
  },
  {
   "cell_type": "code",
   "execution_count": 17,
   "metadata": {},
   "outputs": [
    {
     "name": "stdout",
     "output_type": "stream",
     "text": [
      "The success rate of targeting a person with jobs:\n",
      "management job was 14.0 %\n",
      "technician job was 11.0 %\n",
      "entrepreneur job was 8.0 %\n",
      "blue-collar job was 7.0 %\n",
      "unknown job was 12.0 %\n",
      "retired job was 23.0 %\n",
      "admin. job was 12.0 %\n",
      "services job was 9.0 %\n",
      "self-employed job was 12.0 %\n",
      "unemployed job was 16.0 %\n",
      "housemaid job was 9.0 %\n",
      "student job was 29.0 %\n"
     ]
    }
   ],
   "source": [
    "print(f\"The success rate of targeting a person with jobs:\")\n",
    "for x in bank.job.unique():\n",
    "    print(f\"{x} job was {round((bank[bank['job'] == x].y.value_counts()[1]/len(bank[bank['job'] == x]))*100)} %\")"
   ]
  },
  {
   "cell_type": "markdown",
   "metadata": {},
   "source": [
    "People with management and technician jobs opened the more term deposits than any other. In proportion students and retired persons should be targeted."
   ]
  },
  {
   "cell_type": "markdown",
   "metadata": {},
   "source": [
    "### Marital Variable"
   ]
  },
  {
   "cell_type": "code",
   "execution_count": 18,
   "metadata": {},
   "outputs": [
    {
     "data": {
      "image/png": "[encoded data removed]",
      "text/plain": [
       "<Figure size 432x288 with 1 Axes>"
      ]
     },
     "metadata": {
      "needs_background": "light"
     },
     "output_type": "display_data"
    }
   ],
   "source": [
    "plot('marital')"
   ]
  },
  {
   "cell_type": "code",
   "execution_count": 19,
   "metadata": {
    "scrolled": true
   },
   "outputs": [
    {
     "name": "stdout",
     "output_type": "stream",
     "text": [
      "The success rate of targeting a person with the status:\n",
      "married was 10.0 %\n",
      "single was 15.0 %\n",
      "divorced was 12.0 %\n"
     ]
    }
   ],
   "source": [
    "print(f\"The success rate of targeting a person with the status:\")\n",
    "for x in bank.marital.unique():\n",
    "    print(f\"{x} was {round((bank[bank['marital'] == x].y.value_counts()[1]/len(bank[bank['marital'] == x]))*100)} %\")"
   ]
  },
  {
   "cell_type": "code",
   "execution_count": 20,
   "metadata": {},
   "outputs": [
    {
     "data": {
      "text/plain": [
       "married     27214\n",
       "single      12790\n",
       "divorced     5207\n",
       "Name: marital, dtype: int64"
      ]
     },
     "execution_count": 20,
     "metadata": {},
     "output_type": "execute_result"
    }
   ],
   "source": [
    "bank.marital.value_counts()"
   ]
  },
  {
   "cell_type": "markdown",
   "metadata": {},
   "source": [
    "Mostly married people were targeted. In proportion, single people should be more targeted. But this really doesnt give me anything of importance. Unknown marital status. might have to look into that"
   ]
  },
  {
   "cell_type": "markdown",
   "metadata": {},
   "source": [
    "### Education Variable"
   ]
  },
  {
   "cell_type": "code",
   "execution_count": 21,
   "metadata": {
    "scrolled": false
   },
   "outputs": [
    {
     "data": {
      "image/png": "[encoded data removed]",
      "text/plain": [
       "<Figure size 432x288 with 1 Axes>"
      ]
     },
     "metadata": {
      "needs_background": "light"
     },
     "output_type": "display_data"
    }
   ],
   "source": [
    "plot('education')"
   ]
  },
  {
   "cell_type": "code",
   "execution_count": 22,
   "metadata": {},
   "outputs": [
    {
     "name": "stdout",
     "output_type": "stream",
     "text": [
      "The success rate of targeting a person with the education:\n",
      "tertiary was 15.0 %\n",
      "secondary was 11.0 %\n",
      "unknown was 14.0 %\n",
      "primary was 9.0 %\n"
     ]
    }
   ],
   "source": [
    "print(f\"The success rate of targeting a person with the education:\")\n",
    "for x in bank.education.unique():\n",
    "    print(f\"{x} was {round((bank[bank['education'] == x].y.value_counts()[1]/len(bank[bank['education'] == x]))*100)} %\")"
   ]
  },
  {
   "cell_type": "markdown",
   "metadata": {},
   "source": [
    "People with a university degree or a highschool diploma were targeted more. Because there are so few 'iliterate', the proprtion of opening a term deposit is higher."
   ]
  },
  {
   "cell_type": "markdown",
   "metadata": {},
   "source": [
    "### Default Variable"
   ]
  },
  {
   "cell_type": "code",
   "execution_count": 23,
   "metadata": {
    "scrolled": true
   },
   "outputs": [
    {
     "data": {
      "image/png": "[encoded data removed]",
      "text/plain": [
       "<Figure size 432x288 with 1 Axes>"
      ]
     },
     "metadata": {
      "needs_background": "light"
     },
     "output_type": "display_data"
    }
   ],
   "source": [
    "plot('default')"
   ]
  },
  {
   "cell_type": "markdown",
   "metadata": {},
   "source": [
    "Of course, the bank targeted people with no default."
   ]
  },
  {
   "cell_type": "markdown",
   "metadata": {},
   "source": [
    "### Housing Loan Variable"
   ]
  },
  {
   "cell_type": "code",
   "execution_count": 24,
   "metadata": {
    "scrolled": true
   },
   "outputs": [
    {
     "data": {
      "image/png": "[encoded data removed]",
      "text/plain": [
       "<Figure size 432x288 with 1 Axes>"
      ]
     },
     "metadata": {
      "needs_background": "light"
     },
     "output_type": "display_data"
    }
   ],
   "source": [
    "plot('housing')"
   ]
  },
  {
   "cell_type": "markdown",
   "metadata": {},
   "source": [
    "We cannot see much from this plot. It seems the bank targets both clients with or without housing loans"
   ]
  },
  {
   "cell_type": "markdown",
   "metadata": {},
   "source": [
    "### Loan Variable"
   ]
  },
  {
   "cell_type": "code",
   "execution_count": 25,
   "metadata": {
    "scrolled": false
   },
   "outputs": [
    {
     "data": {
      "image/png": "[encoded data removed]",
      "text/plain": [
       "<Figure size 432x288 with 1 Axes>"
      ]
     },
     "metadata": {
      "needs_background": "light"
     },
     "output_type": "display_data"
    }
   ],
   "source": [
    "plot('loan')"
   ]
  },
  {
   "cell_type": "markdown",
   "metadata": {},
   "source": [
    "We can see clearly from the plot that the bank targets more the clients that do not have a loan with the bank."
   ]
  },
  {
   "cell_type": "markdown",
   "metadata": {},
   "source": [
    "### Contact Variable"
   ]
  },
  {
   "cell_type": "code",
   "execution_count": 26,
   "metadata": {
    "scrolled": true
   },
   "outputs": [
    {
     "data": {
      "image/png": "[encoded data removed]",
      "text/plain": [
       "<Figure size 432x288 with 1 Axes>"
      ]
     },
     "metadata": {
      "needs_background": "light"
     },
     "output_type": "display_data"
    }
   ],
   "source": [
    "plot('contact')"
   ]
  },
  {
   "cell_type": "markdown",
   "metadata": {},
   "source": [
    "The bank uses the cellular to contact more clients, nothing clear in the plot.\n",
    "I think the only way this campaign was deployed was either telephone or mobile."
   ]
  },
  {
   "cell_type": "markdown",
   "metadata": {},
   "source": [
    "### Month contacted Variable"
   ]
  },
  {
   "cell_type": "code",
   "execution_count": 27,
   "metadata": {
    "scrolled": true
   },
   "outputs": [
    {
     "data": {
      "image/png": "[encoded data removed]",
      "text/plain": [
       "<Figure size 432x288 with 1 Axes>"
      ]
     },
     "metadata": {
      "needs_background": "light"
     },
     "output_type": "display_data"
    }
   ],
   "source": [
    "plot('month')"
   ]
  },
  {
   "cell_type": "code",
   "execution_count": 28,
   "metadata": {
    "scrolled": true
   },
   "outputs": [
    {
     "name": "stdout",
     "output_type": "stream",
     "text": [
      "The success rate of targeting a person during the month:\n",
      "may was 7.0 %. Amount of people contacted during may was 13766\n",
      "jun was 10.0 %. Amount of people contacted during jun was 5341\n",
      "jul was 9.0 %. Amount of people contacted during jul was 6895\n",
      "aug was 11.0 %. Amount of people contacted during aug was 6247\n",
      "oct was 44.0 %. Amount of people contacted during oct was 738\n",
      "nov was 10.0 %. Amount of people contacted during nov was 3970\n",
      "dec was 47.0 %. Amount of people contacted during dec was 214\n",
      "jan was 10.0 %. Amount of people contacted during jan was 1403\n",
      "feb was 17.0 %. Amount of people contacted during feb was 2649\n",
      "mar was 48.0 %. Amount of people contacted during mar was 477\n",
      "apr was 20.0 %. Amount of people contacted during apr was 2932\n",
      "sep was 46.0 %. Amount of people contacted during sep was 579\n"
     ]
    }
   ],
   "source": [
    "print(f\"The success rate of targeting a person during the month:\")\n",
    "for x in bank.month.unique():\n",
    "    print(f\"{x} was {round((bank[bank['month'] == x].y.value_counts()[1]/len(bank[bank['month'] == x]))*100)} %. Amount of people contacted during {x} was {len(bank[bank['month'] == x])}\")"
   ]
  },
  {
   "cell_type": "markdown",
   "metadata": {},
   "source": [
    "May is the month where the bank decides to contact their clients more. In proportion, march and december are the months the bank should be contacting their clients."
   ]
  },
  {
   "cell_type": "markdown",
   "metadata": {},
   "source": [
    "### Age Variable"
   ]
  },
  {
   "cell_type": "markdown",
   "metadata": {},
   "source": [
    "Order the ages into groups so we can have a better understanding of the ages"
   ]
  },
  {
   "cell_type": "code",
   "execution_count": 29,
   "metadata": {},
   "outputs": [],
   "source": [
    "df_copy = bank.copy()\n",
    "lst = [df_copy]\n",
    "for column in lst:\n",
    "    column.loc[column[\"age\"] < 30,  'age_group'] = 20\n",
    "    column.loc[(column[\"age\"] >= 30) & (column[\"age\"] <= 40), 'age_group'] = 30\n",
    "    column.loc[(column[\"age\"] >= 40) & (column[\"age\"] <= 50), 'age_group'] = 40\n",
    "    column.loc[(column[\"age\"] >= 50) & (column[\"age\"] <= 60), 'age_group'] = 50\n",
    "    column.loc[column[\"age\"] >= 60, 'age_group'] = 60"
   ]
  },
  {
   "cell_type": "code",
   "execution_count": 30,
   "metadata": {
    "scrolled": true
   },
   "outputs": [
    {
     "data": {
      "image/png": "[encoded data removed]",
      "text/plain": [
       "<Figure size 432x288 with 1 Axes>"
      ]
     },
     "metadata": {
      "needs_background": "light"
     },
     "output_type": "display_data"
    }
   ],
   "source": [
    "plot('age_group')"
   ]
  },
  {
   "cell_type": "code",
   "execution_count": 31,
   "metadata": {
    "scrolled": true
   },
   "outputs": [
    {
     "name": "stdout",
     "output_type": "stream",
     "text": [
      "The success rate of targeting a person of age:\n",
      "50.0 was 9.0 %. Amount of people contacted thar are in their 50.0 was 8410\n",
      "40.0 was 9.0 %. Amount of people contacted thar are in their 40.0 was 11655\n",
      "30.0 was 11.0 %. Amount of people contacted thar are in their 30.0 was 18089\n",
      "20.0 was 18.0 %. Amount of people contacted thar are in their 20.0 was 5273\n",
      "60.0 was 34.0 %. Amount of people contacted thar are in their 60.0 was 1784\n"
     ]
    }
   ],
   "source": [
    "print(f\"The success rate of targeting a person of age:\")\n",
    "for x in df_copy.age_group.unique():\n",
    "    print(f\"{x} was {round((df_copy[df_copy['age_group'] == x].y.value_counts()[1]/len(df_copy[df_copy['age_group'] == x]))*100)} %. Amount of people contacted thar are in their {x} was {len(df_copy[df_copy['age_group'] == x])}\")"
   ]
  },
  {
   "cell_type": "markdown",
   "metadata": {},
   "source": [
    "Last campaign, the bank contacted more people between their 30's and their 40's. In proportion, it seems people under their 30's and above their 60's had a better succes rate."
   ]
  },
  {
   "cell_type": "markdown",
   "metadata": {},
   "source": [
    "## Observations from EDA"
   ]
  },
  {
   "cell_type": "markdown",
   "metadata": {},
   "source": [
    " - We have an imbalanced dataset.\n",
    " \n",
    " - There are some variables that have unknown values, might have to do something about this in order to have a better model.\n",
    " \n",
    " - People with management and technician jobs were the most contacted and the jobs that more accepted to the term deposits. However, in proportion students and retired persons had a better succes rate. The bank should consider targeting retired and student clients.\n",
    " \n",
    " - The bank targets clients that have no open loans already and also the clients that have no default with their existing loans. This makes perfect sense.\n",
    " \n",
    " - The bank targets clients with or without a housing loan, those clients that do not have a housing loan are more \"prone\" to open a term deposit.\n",
    " \n",
    " - The bank uses the cellular to contact more clients, I think the only way this campaign was deployed was either telephone or mobile. So have to do something abput the unknowns.\n",
    " \n",
    " - The bank contacted the most clients during the month of May. It may be the time where the campaigned launch. In proportion, March, December and September had the bertter succes rate.\n",
    " \n",
    " - The bank apporached clients of ages 40's and 50's the most. Clients below 30 years old and above 60 years old had a better succes rate in proportion. This makes sense with the \"job variable where students and retired clients had a better succes rate in opening a term deposit."
   ]
  },
  {
   "cell_type": "markdown",
   "metadata": {},
   "source": [
    "Change the target variable to numerical"
   ]
  },
  {
   "cell_type": "code",
   "execution_count": 32,
   "metadata": {},
   "outputs": [],
   "source": [
    "df_copy['y'] = df_copy['y'].map({'no':0, 'yes':1})"
   ]
  },
  {
   "cell_type": "code",
   "execution_count": 33,
   "metadata": {
    "scrolled": true
   },
   "outputs": [
    {
     "data": {
      "text/html": [
       "<style  type=\"text/css\" >\n",
       "    #T_df859aeb_80e2_11eb_902e_80fa5b48b5ddrow0_col0 {\n",
       "            background-color:  #023858;\n",
       "            color:  #f1f1f1;\n",
       "        }    #T_df859aeb_80e2_11eb_902e_80fa5b48b5ddrow0_col1 {\n",
       "            background-color:  #eee9f3;\n",
       "            color:  #000000;\n",
       "        }    #T_df859aeb_80e2_11eb_902e_80fa5b48b5ddrow0_col2 {\n",
       "            background-color:  #f4edf6;\n",
       "            color:  #000000;\n",
       "        }    #T_df859aeb_80e2_11eb_902e_80fa5b48b5ddrow0_col3 {\n",
       "            background-color:  #f4eef6;\n",
       "            color:  #000000;\n",
       "        }    #T_df859aeb_80e2_11eb_902e_80fa5b48b5ddrow0_col4 {\n",
       "            background-color:  #f2ecf5;\n",
       "            color:  #000000;\n",
       "        }    #T_df859aeb_80e2_11eb_902e_80fa5b48b5ddrow0_col5 {\n",
       "            background-color:  #f5eff6;\n",
       "            color:  #000000;\n",
       "        }    #T_df859aeb_80e2_11eb_902e_80fa5b48b5ddrow0_col6 {\n",
       "            background-color:  #f8f1f8;\n",
       "            color:  #000000;\n",
       "        }    #T_df859aeb_80e2_11eb_902e_80fa5b48b5ddrow0_col7 {\n",
       "            background-color:  #f1ebf5;\n",
       "            color:  #000000;\n",
       "        }    #T_df859aeb_80e2_11eb_902e_80fa5b48b5ddrow0_col8 {\n",
       "            background-color:  #03446a;\n",
       "            color:  #f1f1f1;\n",
       "        }    #T_df859aeb_80e2_11eb_902e_80fa5b48b5ddrow1_col0 {\n",
       "            background-color:  #ede8f3;\n",
       "            color:  #000000;\n",
       "        }    #T_df859aeb_80e2_11eb_902e_80fa5b48b5ddrow1_col1 {\n",
       "            background-color:  #023858;\n",
       "            color:  #f1f1f1;\n",
       "        }    #T_df859aeb_80e2_11eb_902e_80fa5b48b5ddrow1_col2 {\n",
       "            background-color:  #f2ecf5;\n",
       "            color:  #000000;\n",
       "        }    #T_df859aeb_80e2_11eb_902e_80fa5b48b5ddrow1_col3 {\n",
       "            background-color:  #f0eaf4;\n",
       "            color:  #000000;\n",
       "        }    #T_df859aeb_80e2_11eb_902e_80fa5b48b5ddrow1_col4 {\n",
       "            background-color:  #f5eef6;\n",
       "            color:  #000000;\n",
       "        }    #T_df859aeb_80e2_11eb_902e_80fa5b48b5ddrow1_col5 {\n",
       "            background-color:  #f2ecf5;\n",
       "            color:  #000000;\n",
       "        }    #T_df859aeb_80e2_11eb_902e_80fa5b48b5ddrow1_col6 {\n",
       "            background-color:  #f5eff6;\n",
       "            color:  #000000;\n",
       "        }    #T_df859aeb_80e2_11eb_902e_80fa5b48b5ddrow1_col7 {\n",
       "            background-color:  #ede8f3;\n",
       "            color:  #000000;\n",
       "        }    #T_df859aeb_80e2_11eb_902e_80fa5b48b5ddrow1_col8 {\n",
       "            background-color:  #eee8f3;\n",
       "            color:  #000000;\n",
       "        }    #T_df859aeb_80e2_11eb_902e_80fa5b48b5ddrow2_col0 {\n",
       "            background-color:  #fdf5fa;\n",
       "            color:  #000000;\n",
       "        }    #T_df859aeb_80e2_11eb_902e_80fa5b48b5ddrow2_col1 {\n",
       "            background-color:  #fdf5fa;\n",
       "            color:  #000000;\n",
       "        }    #T_df859aeb_80e2_11eb_902e_80fa5b48b5ddrow2_col2 {\n",
       "            background-color:  #023858;\n",
       "            color:  #f1f1f1;\n",
       "        }    #T_df859aeb_80e2_11eb_902e_80fa5b48b5ddrow2_col3 {\n",
       "            background-color:  #f8f1f8;\n",
       "            color:  #000000;\n",
       "        }    #T_df859aeb_80e2_11eb_902e_80fa5b48b5ddrow2_col4 {\n",
       "            background-color:  #d4d4e8;\n",
       "            color:  #000000;\n",
       "        }    #T_df859aeb_80e2_11eb_902e_80fa5b48b5ddrow2_col5 {\n",
       "            background-color:  #fff7fb;\n",
       "            color:  #000000;\n",
       "        }    #T_df859aeb_80e2_11eb_902e_80fa5b48b5ddrow2_col6 {\n",
       "            background-color:  #fff7fb;\n",
       "            color:  #000000;\n",
       "        }    #T_df859aeb_80e2_11eb_902e_80fa5b48b5ddrow2_col7 {\n",
       "            background-color:  #f9f2f8;\n",
       "            color:  #000000;\n",
       "        }    #T_df859aeb_80e2_11eb_902e_80fa5b48b5ddrow2_col8 {\n",
       "            background-color:  #fcf4fa;\n",
       "            color:  #000000;\n",
       "        }    #T_df859aeb_80e2_11eb_902e_80fa5b48b5ddrow3_col0 {\n",
       "            background-color:  #fdf5fa;\n",
       "            color:  #000000;\n",
       "        }    #T_df859aeb_80e2_11eb_902e_80fa5b48b5ddrow3_col1 {\n",
       "            background-color:  #faf2f8;\n",
       "            color:  #000000;\n",
       "        }    #T_df859aeb_80e2_11eb_902e_80fa5b48b5ddrow3_col2 {\n",
       "            background-color:  #f7f0f7;\n",
       "            color:  #000000;\n",
       "        }    #T_df859aeb_80e2_11eb_902e_80fa5b48b5ddrow3_col3 {\n",
       "            background-color:  #023858;\n",
       "            color:  #f1f1f1;\n",
       "        }    #T_df859aeb_80e2_11eb_902e_80fa5b48b5ddrow3_col4 {\n",
       "            background-color:  #fff7fb;\n",
       "            color:  #000000;\n",
       "        }    #T_df859aeb_80e2_11eb_902e_80fa5b48b5ddrow3_col5 {\n",
       "            background-color:  #f2ecf5;\n",
       "            color:  #000000;\n",
       "        }    #T_df859aeb_80e2_11eb_902e_80fa5b48b5ddrow3_col6 {\n",
       "            background-color:  #f8f1f8;\n",
       "            color:  #000000;\n",
       "        }    #T_df859aeb_80e2_11eb_902e_80fa5b48b5ddrow3_col7 {\n",
       "            background-color:  #8eb3d5;\n",
       "            color:  #000000;\n",
       "        }    #T_df859aeb_80e2_11eb_902e_80fa5b48b5ddrow3_col8 {\n",
       "            background-color:  #fdf5fa;\n",
       "            color:  #000000;\n",
       "        }    #T_df859aeb_80e2_11eb_902e_80fa5b48b5ddrow4_col0 {\n",
       "            background-color:  #fbf3f9;\n",
       "            color:  #000000;\n",
       "        }    #T_df859aeb_80e2_11eb_902e_80fa5b48b5ddrow4_col1 {\n",
       "            background-color:  #fff7fb;\n",
       "            color:  #000000;\n",
       "        }    #T_df859aeb_80e2_11eb_902e_80fa5b48b5ddrow4_col2 {\n",
       "            background-color:  #d4d4e8;\n",
       "            color:  #000000;\n",
       "        }    #T_df859aeb_80e2_11eb_902e_80fa5b48b5ddrow4_col3 {\n",
       "            background-color:  #fff7fb;\n",
       "            color:  #000000;\n",
       "        }    #T_df859aeb_80e2_11eb_902e_80fa5b48b5ddrow4_col4 {\n",
       "            background-color:  #023858;\n",
       "            color:  #f1f1f1;\n",
       "        }    #T_df859aeb_80e2_11eb_902e_80fa5b48b5ddrow4_col5 {\n",
       "            background-color:  #fef6fb;\n",
       "            color:  #000000;\n",
       "        }    #T_df859aeb_80e2_11eb_902e_80fa5b48b5ddrow4_col6 {\n",
       "            background-color:  #fdf5fa;\n",
       "            color:  #000000;\n",
       "        }    #T_df859aeb_80e2_11eb_902e_80fa5b48b5ddrow4_col7 {\n",
       "            background-color:  #fff7fb;\n",
       "            color:  #000000;\n",
       "        }    #T_df859aeb_80e2_11eb_902e_80fa5b48b5ddrow4_col8 {\n",
       "            background-color:  #faf3f9;\n",
       "            color:  #000000;\n",
       "        }    #T_df859aeb_80e2_11eb_902e_80fa5b48b5ddrow5_col0 {\n",
       "            background-color:  #fff7fb;\n",
       "            color:  #000000;\n",
       "        }    #T_df859aeb_80e2_11eb_902e_80fa5b48b5ddrow5_col1 {\n",
       "            background-color:  #fdf5fa;\n",
       "            color:  #000000;\n",
       "        }    #T_df859aeb_80e2_11eb_902e_80fa5b48b5ddrow5_col2 {\n",
       "            background-color:  #fff7fb;\n",
       "            color:  #000000;\n",
       "        }    #T_df859aeb_80e2_11eb_902e_80fa5b48b5ddrow5_col3 {\n",
       "            background-color:  #f4edf6;\n",
       "            color:  #000000;\n",
       "        }    #T_df859aeb_80e2_11eb_902e_80fa5b48b5ddrow5_col4 {\n",
       "            background-color:  #fff7fb;\n",
       "            color:  #000000;\n",
       "        }    #T_df859aeb_80e2_11eb_902e_80fa5b48b5ddrow5_col5 {\n",
       "            background-color:  #023858;\n",
       "            color:  #f1f1f1;\n",
       "        }    #T_df859aeb_80e2_11eb_902e_80fa5b48b5ddrow5_col6 {\n",
       "            background-color:  #7bacd1;\n",
       "            color:  #000000;\n",
       "        }    #T_df859aeb_80e2_11eb_902e_80fa5b48b5ddrow5_col7 {\n",
       "            background-color:  #e3e0ee;\n",
       "            color:  #000000;\n",
       "        }    #T_df859aeb_80e2_11eb_902e_80fa5b48b5ddrow5_col8 {\n",
       "            background-color:  #fff7fb;\n",
       "            color:  #000000;\n",
       "        }    #T_df859aeb_80e2_11eb_902e_80fa5b48b5ddrow6_col0 {\n",
       "            background-color:  #fbf4f9;\n",
       "            color:  #000000;\n",
       "        }    #T_df859aeb_80e2_11eb_902e_80fa5b48b5ddrow6_col1 {\n",
       "            background-color:  #fbf3f9;\n",
       "            color:  #000000;\n",
       "        }    #T_df859aeb_80e2_11eb_902e_80fa5b48b5ddrow6_col2 {\n",
       "            background-color:  #faf2f8;\n",
       "            color:  #000000;\n",
       "        }    #T_df859aeb_80e2_11eb_902e_80fa5b48b5ddrow6_col3 {\n",
       "            background-color:  #f3edf5;\n",
       "            color:  #000000;\n",
       "        }    #T_df859aeb_80e2_11eb_902e_80fa5b48b5ddrow6_col4 {\n",
       "            background-color:  #f7f0f7;\n",
       "            color:  #000000;\n",
       "        }    #T_df859aeb_80e2_11eb_902e_80fa5b48b5ddrow6_col5 {\n",
       "            background-color:  #73a9cf;\n",
       "            color:  #000000;\n",
       "        }    #T_df859aeb_80e2_11eb_902e_80fa5b48b5ddrow6_col6 {\n",
       "            background-color:  #023858;\n",
       "            color:  #f1f1f1;\n",
       "        }    #T_df859aeb_80e2_11eb_902e_80fa5b48b5ddrow6_col7 {\n",
       "            background-color:  #e6e2ef;\n",
       "            color:  #000000;\n",
       "        }    #T_df859aeb_80e2_11eb_902e_80fa5b48b5ddrow6_col8 {\n",
       "            background-color:  #fbf4f9;\n",
       "            color:  #000000;\n",
       "        }    #T_df859aeb_80e2_11eb_902e_80fa5b48b5ddrow7_col0 {\n",
       "            background-color:  #f8f1f8;\n",
       "            color:  #000000;\n",
       "        }    #T_df859aeb_80e2_11eb_902e_80fa5b48b5ddrow7_col1 {\n",
       "            background-color:  #f5eef6;\n",
       "            color:  #000000;\n",
       "        }    #T_df859aeb_80e2_11eb_902e_80fa5b48b5ddrow7_col2 {\n",
       "            background-color:  #f6eff7;\n",
       "            color:  #000000;\n",
       "        }    #T_df859aeb_80e2_11eb_902e_80fa5b48b5ddrow7_col3 {\n",
       "            background-color:  #8bb2d4;\n",
       "            color:  #000000;\n",
       "        }    #T_df859aeb_80e2_11eb_902e_80fa5b48b5ddrow7_col4 {\n",
       "            background-color:  #fdf5fa;\n",
       "            color:  #000000;\n",
       "        }    #T_df859aeb_80e2_11eb_902e_80fa5b48b5ddrow7_col5 {\n",
       "            background-color:  #e0deed;\n",
       "            color:  #000000;\n",
       "        }    #T_df859aeb_80e2_11eb_902e_80fa5b48b5ddrow7_col6 {\n",
       "            background-color:  #e9e5f1;\n",
       "            color:  #000000;\n",
       "        }    #T_df859aeb_80e2_11eb_902e_80fa5b48b5ddrow7_col7 {\n",
       "            background-color:  #023858;\n",
       "            color:  #f1f1f1;\n",
       "        }    #T_df859aeb_80e2_11eb_902e_80fa5b48b5ddrow7_col8 {\n",
       "            background-color:  #faf2f8;\n",
       "            color:  #000000;\n",
       "        }    #T_df859aeb_80e2_11eb_902e_80fa5b48b5ddrow8_col0 {\n",
       "            background-color:  #03446a;\n",
       "            color:  #f1f1f1;\n",
       "        }    #T_df859aeb_80e2_11eb_902e_80fa5b48b5ddrow8_col1 {\n",
       "            background-color:  #f0eaf4;\n",
       "            color:  #000000;\n",
       "        }    #T_df859aeb_80e2_11eb_902e_80fa5b48b5ddrow8_col2 {\n",
       "            background-color:  #f3edf5;\n",
       "            color:  #000000;\n",
       "        }    #T_df859aeb_80e2_11eb_902e_80fa5b48b5ddrow8_col3 {\n",
       "            background-color:  #f5eef6;\n",
       "            color:  #000000;\n",
       "        }    #T_df859aeb_80e2_11eb_902e_80fa5b48b5ddrow8_col4 {\n",
       "            background-color:  #f1ebf5;\n",
       "            color:  #000000;\n",
       "        }    #T_df859aeb_80e2_11eb_902e_80fa5b48b5ddrow8_col5 {\n",
       "            background-color:  #f6eff7;\n",
       "            color:  #000000;\n",
       "        }    #T_df859aeb_80e2_11eb_902e_80fa5b48b5ddrow8_col6 {\n",
       "            background-color:  #f8f1f8;\n",
       "            color:  #000000;\n",
       "        }    #T_df859aeb_80e2_11eb_902e_80fa5b48b5ddrow8_col7 {\n",
       "            background-color:  #f3edf5;\n",
       "            color:  #000000;\n",
       "        }    #T_df859aeb_80e2_11eb_902e_80fa5b48b5ddrow8_col8 {\n",
       "            background-color:  #023858;\n",
       "            color:  #f1f1f1;\n",
       "        }</style><table id=\"T_df859aeb_80e2_11eb_902e_80fa5b48b5dd\" ><thead>    <tr>        <th class=\"blank level0\" ></th>        <th class=\"col_heading level0 col0\" >age</th>        <th class=\"col_heading level0 col1\" >balance</th>        <th class=\"col_heading level0 col2\" >day</th>        <th class=\"col_heading level0 col3\" >duration</th>        <th class=\"col_heading level0 col4\" >campaign</th>        <th class=\"col_heading level0 col5\" >pdays</th>        <th class=\"col_heading level0 col6\" >previous</th>        <th class=\"col_heading level0 col7\" >y</th>        <th class=\"col_heading level0 col8\" >age_group</th>    </tr></thead><tbody>\n",
       "                <tr>\n",
       "                        <th id=\"T_df859aeb_80e2_11eb_902e_80fa5b48b5ddlevel0_row0\" class=\"row_heading level0 row0\" >age</th>\n",
       "                        <td id=\"T_df859aeb_80e2_11eb_902e_80fa5b48b5ddrow0_col0\" class=\"data row0 col0\" >1.000000</td>\n",
       "                        <td id=\"T_df859aeb_80e2_11eb_902e_80fa5b48b5ddrow0_col1\" class=\"data row0 col1\" >0.097783</td>\n",
       "                        <td id=\"T_df859aeb_80e2_11eb_902e_80fa5b48b5ddrow0_col2\" class=\"data row0 col2\" >-0.009120</td>\n",
       "                        <td id=\"T_df859aeb_80e2_11eb_902e_80fa5b48b5ddrow0_col3\" class=\"data row0 col3\" >-0.004648</td>\n",
       "                        <td id=\"T_df859aeb_80e2_11eb_902e_80fa5b48b5ddrow0_col4\" class=\"data row0 col4\" >0.004760</td>\n",
       "                        <td id=\"T_df859aeb_80e2_11eb_902e_80fa5b48b5ddrow0_col5\" class=\"data row0 col5\" >-0.023841</td>\n",
       "                        <td id=\"T_df859aeb_80e2_11eb_902e_80fa5b48b5ddrow0_col6\" class=\"data row0 col6\" >0.001288</td>\n",
       "                        <td id=\"T_df859aeb_80e2_11eb_902e_80fa5b48b5ddrow0_col7\" class=\"data row0 col7\" >0.025155</td>\n",
       "                        <td id=\"T_df859aeb_80e2_11eb_902e_80fa5b48b5ddrow0_col8\" class=\"data row0 col8\" >0.954136</td>\n",
       "            </tr>\n",
       "            <tr>\n",
       "                        <th id=\"T_df859aeb_80e2_11eb_902e_80fa5b48b5ddlevel0_row1\" class=\"row_heading level0 row1\" >balance</th>\n",
       "                        <td id=\"T_df859aeb_80e2_11eb_902e_80fa5b48b5ddrow1_col0\" class=\"data row1 col0\" >0.097783</td>\n",
       "                        <td id=\"T_df859aeb_80e2_11eb_902e_80fa5b48b5ddrow1_col1\" class=\"data row1 col1\" >1.000000</td>\n",
       "                        <td id=\"T_df859aeb_80e2_11eb_902e_80fa5b48b5ddrow1_col2\" class=\"data row1 col2\" >0.004503</td>\n",
       "                        <td id=\"T_df859aeb_80e2_11eb_902e_80fa5b48b5ddrow1_col3\" class=\"data row1 col3\" >0.021560</td>\n",
       "                        <td id=\"T_df859aeb_80e2_11eb_902e_80fa5b48b5ddrow1_col4\" class=\"data row1 col4\" >-0.014578</td>\n",
       "                        <td id=\"T_df859aeb_80e2_11eb_902e_80fa5b48b5ddrow1_col5\" class=\"data row1 col5\" >0.003330</td>\n",
       "                        <td id=\"T_df859aeb_80e2_11eb_902e_80fa5b48b5ddrow1_col6\" class=\"data row1 col6\" >0.016674</td>\n",
       "                        <td id=\"T_df859aeb_80e2_11eb_902e_80fa5b48b5ddrow1_col7\" class=\"data row1 col7\" >0.052838</td>\n",
       "                        <td id=\"T_df859aeb_80e2_11eb_902e_80fa5b48b5ddrow1_col8\" class=\"data row1 col8\" >0.091864</td>\n",
       "            </tr>\n",
       "            <tr>\n",
       "                        <th id=\"T_df859aeb_80e2_11eb_902e_80fa5b48b5ddlevel0_row2\" class=\"row_heading level0 row2\" >day</th>\n",
       "                        <td id=\"T_df859aeb_80e2_11eb_902e_80fa5b48b5ddrow2_col0\" class=\"data row2 col0\" >-0.009120</td>\n",
       "                        <td id=\"T_df859aeb_80e2_11eb_902e_80fa5b48b5ddrow2_col1\" class=\"data row2 col1\" >0.004503</td>\n",
       "                        <td id=\"T_df859aeb_80e2_11eb_902e_80fa5b48b5ddrow2_col2\" class=\"data row2 col2\" >1.000000</td>\n",
       "                        <td id=\"T_df859aeb_80e2_11eb_902e_80fa5b48b5ddrow2_col3\" class=\"data row2 col3\" >-0.030206</td>\n",
       "                        <td id=\"T_df859aeb_80e2_11eb_902e_80fa5b48b5ddrow2_col4\" class=\"data row2 col4\" >0.162490</td>\n",
       "                        <td id=\"T_df859aeb_80e2_11eb_902e_80fa5b48b5ddrow2_col5\" class=\"data row2 col5\" >-0.093024</td>\n",
       "                        <td id=\"T_df859aeb_80e2_11eb_902e_80fa5b48b5ddrow2_col6\" class=\"data row2 col6\" >-0.051710</td>\n",
       "                        <td id=\"T_df859aeb_80e2_11eb_902e_80fa5b48b5ddrow2_col7\" class=\"data row2 col7\" >-0.028348</td>\n",
       "                        <td id=\"T_df859aeb_80e2_11eb_902e_80fa5b48b5ddrow2_col8\" class=\"data row2 col8\" >-0.005244</td>\n",
       "            </tr>\n",
       "            <tr>\n",
       "                        <th id=\"T_df859aeb_80e2_11eb_902e_80fa5b48b5ddlevel0_row3\" class=\"row_heading level0 row3\" >duration</th>\n",
       "                        <td id=\"T_df859aeb_80e2_11eb_902e_80fa5b48b5ddrow3_col0\" class=\"data row3 col0\" >-0.004648</td>\n",
       "                        <td id=\"T_df859aeb_80e2_11eb_902e_80fa5b48b5ddrow3_col1\" class=\"data row3 col1\" >0.021560</td>\n",
       "                        <td id=\"T_df859aeb_80e2_11eb_902e_80fa5b48b5ddrow3_col2\" class=\"data row3 col2\" >-0.030206</td>\n",
       "                        <td id=\"T_df859aeb_80e2_11eb_902e_80fa5b48b5ddrow3_col3\" class=\"data row3 col3\" >1.000000</td>\n",
       "                        <td id=\"T_df859aeb_80e2_11eb_902e_80fa5b48b5ddrow3_col4\" class=\"data row3 col4\" >-0.084570</td>\n",
       "                        <td id=\"T_df859aeb_80e2_11eb_902e_80fa5b48b5ddrow3_col5\" class=\"data row3 col5\" >-0.001584</td>\n",
       "                        <td id=\"T_df859aeb_80e2_11eb_902e_80fa5b48b5ddrow3_col6\" class=\"data row3 col6\" >0.001203</td>\n",
       "                        <td id=\"T_df859aeb_80e2_11eb_902e_80fa5b48b5ddrow3_col7\" class=\"data row3 col7\" >0.394521</td>\n",
       "                        <td id=\"T_df859aeb_80e2_11eb_902e_80fa5b48b5ddrow3_col8\" class=\"data row3 col8\" >-0.011412</td>\n",
       "            </tr>\n",
       "            <tr>\n",
       "                        <th id=\"T_df859aeb_80e2_11eb_902e_80fa5b48b5ddlevel0_row4\" class=\"row_heading level0 row4\" >campaign</th>\n",
       "                        <td id=\"T_df859aeb_80e2_11eb_902e_80fa5b48b5ddrow4_col0\" class=\"data row4 col0\" >0.004760</td>\n",
       "                        <td id=\"T_df859aeb_80e2_11eb_902e_80fa5b48b5ddrow4_col1\" class=\"data row4 col1\" >-0.014578</td>\n",
       "                        <td id=\"T_df859aeb_80e2_11eb_902e_80fa5b48b5ddrow4_col2\" class=\"data row4 col2\" >0.162490</td>\n",
       "                        <td id=\"T_df859aeb_80e2_11eb_902e_80fa5b48b5ddrow4_col3\" class=\"data row4 col3\" >-0.084570</td>\n",
       "                        <td id=\"T_df859aeb_80e2_11eb_902e_80fa5b48b5ddrow4_col4\" class=\"data row4 col4\" >1.000000</td>\n",
       "                        <td id=\"T_df859aeb_80e2_11eb_902e_80fa5b48b5ddrow4_col5\" class=\"data row4 col5\" >-0.088508</td>\n",
       "                        <td id=\"T_df859aeb_80e2_11eb_902e_80fa5b48b5ddrow4_col6\" class=\"data row4 col6\" >-0.032855</td>\n",
       "                        <td id=\"T_df859aeb_80e2_11eb_902e_80fa5b48b5ddrow4_col7\" class=\"data row4 col7\" >-0.073172</td>\n",
       "                        <td id=\"T_df859aeb_80e2_11eb_902e_80fa5b48b5ddrow4_col8\" class=\"data row4 col8\" >0.009513</td>\n",
       "            </tr>\n",
       "            <tr>\n",
       "                        <th id=\"T_df859aeb_80e2_11eb_902e_80fa5b48b5ddlevel0_row5\" class=\"row_heading level0 row5\" >pdays</th>\n",
       "                        <td id=\"T_df859aeb_80e2_11eb_902e_80fa5b48b5ddrow5_col0\" class=\"data row5 col0\" >-0.023841</td>\n",
       "                        <td id=\"T_df859aeb_80e2_11eb_902e_80fa5b48b5ddrow5_col1\" class=\"data row5 col1\" >0.003330</td>\n",
       "                        <td id=\"T_df859aeb_80e2_11eb_902e_80fa5b48b5ddrow5_col2\" class=\"data row5 col2\" >-0.093024</td>\n",
       "                        <td id=\"T_df859aeb_80e2_11eb_902e_80fa5b48b5ddrow5_col3\" class=\"data row5 col3\" >-0.001584</td>\n",
       "                        <td id=\"T_df859aeb_80e2_11eb_902e_80fa5b48b5ddrow5_col4\" class=\"data row5 col4\" >-0.088508</td>\n",
       "                        <td id=\"T_df859aeb_80e2_11eb_902e_80fa5b48b5ddrow5_col5\" class=\"data row5 col5\" >1.000000</td>\n",
       "                        <td id=\"T_df859aeb_80e2_11eb_902e_80fa5b48b5ddrow5_col6\" class=\"data row5 col6\" >0.454288</td>\n",
       "                        <td id=\"T_df859aeb_80e2_11eb_902e_80fa5b48b5ddrow5_col7\" class=\"data row5 col7\" >0.103323</td>\n",
       "                        <td id=\"T_df859aeb_80e2_11eb_902e_80fa5b48b5ddrow5_col8\" class=\"data row5 col8\" >-0.025548</td>\n",
       "            </tr>\n",
       "            <tr>\n",
       "                        <th id=\"T_df859aeb_80e2_11eb_902e_80fa5b48b5ddlevel0_row6\" class=\"row_heading level0 row6\" >previous</th>\n",
       "                        <td id=\"T_df859aeb_80e2_11eb_902e_80fa5b48b5ddrow6_col0\" class=\"data row6 col0\" >0.001288</td>\n",
       "                        <td id=\"T_df859aeb_80e2_11eb_902e_80fa5b48b5ddrow6_col1\" class=\"data row6 col1\" >0.016674</td>\n",
       "                        <td id=\"T_df859aeb_80e2_11eb_902e_80fa5b48b5ddrow6_col2\" class=\"data row6 col2\" >-0.051710</td>\n",
       "                        <td id=\"T_df859aeb_80e2_11eb_902e_80fa5b48b5ddrow6_col3\" class=\"data row6 col3\" >0.001203</td>\n",
       "                        <td id=\"T_df859aeb_80e2_11eb_902e_80fa5b48b5ddrow6_col4\" class=\"data row6 col4\" >-0.032855</td>\n",
       "                        <td id=\"T_df859aeb_80e2_11eb_902e_80fa5b48b5ddrow6_col5\" class=\"data row6 col5\" >0.454288</td>\n",
       "                        <td id=\"T_df859aeb_80e2_11eb_902e_80fa5b48b5ddrow6_col6\" class=\"data row6 col6\" >1.000000</td>\n",
       "                        <td id=\"T_df859aeb_80e2_11eb_902e_80fa5b48b5ddrow6_col7\" class=\"data row6 col7\" >0.093236</td>\n",
       "                        <td id=\"T_df859aeb_80e2_11eb_902e_80fa5b48b5ddrow6_col8\" class=\"data row6 col8\" >-0.001191</td>\n",
       "            </tr>\n",
       "            <tr>\n",
       "                        <th id=\"T_df859aeb_80e2_11eb_902e_80fa5b48b5ddlevel0_row7\" class=\"row_heading level0 row7\" >y</th>\n",
       "                        <td id=\"T_df859aeb_80e2_11eb_902e_80fa5b48b5ddrow7_col0\" class=\"data row7 col0\" >0.025155</td>\n",
       "                        <td id=\"T_df859aeb_80e2_11eb_902e_80fa5b48b5ddrow7_col1\" class=\"data row7 col1\" >0.052838</td>\n",
       "                        <td id=\"T_df859aeb_80e2_11eb_902e_80fa5b48b5ddrow7_col2\" class=\"data row7 col2\" >-0.028348</td>\n",
       "                        <td id=\"T_df859aeb_80e2_11eb_902e_80fa5b48b5ddrow7_col3\" class=\"data row7 col3\" >0.394521</td>\n",
       "                        <td id=\"T_df859aeb_80e2_11eb_902e_80fa5b48b5ddrow7_col4\" class=\"data row7 col4\" >-0.073172</td>\n",
       "                        <td id=\"T_df859aeb_80e2_11eb_902e_80fa5b48b5ddrow7_col5\" class=\"data row7 col5\" >0.103323</td>\n",
       "                        <td id=\"T_df859aeb_80e2_11eb_902e_80fa5b48b5ddrow7_col6\" class=\"data row7 col6\" >0.093236</td>\n",
       "                        <td id=\"T_df859aeb_80e2_11eb_902e_80fa5b48b5ddrow7_col7\" class=\"data row7 col7\" >1.000000</td>\n",
       "                        <td id=\"T_df859aeb_80e2_11eb_902e_80fa5b48b5ddrow7_col8\" class=\"data row7 col8\" >0.010928</td>\n",
       "            </tr>\n",
       "            <tr>\n",
       "                        <th id=\"T_df859aeb_80e2_11eb_902e_80fa5b48b5ddlevel0_row8\" class=\"row_heading level0 row8\" >age_group</th>\n",
       "                        <td id=\"T_df859aeb_80e2_11eb_902e_80fa5b48b5ddrow8_col0\" class=\"data row8 col0\" >0.954136</td>\n",
       "                        <td id=\"T_df859aeb_80e2_11eb_902e_80fa5b48b5ddrow8_col1\" class=\"data row8 col1\" >0.091864</td>\n",
       "                        <td id=\"T_df859aeb_80e2_11eb_902e_80fa5b48b5ddrow8_col2\" class=\"data row8 col2\" >-0.005244</td>\n",
       "                        <td id=\"T_df859aeb_80e2_11eb_902e_80fa5b48b5ddrow8_col3\" class=\"data row8 col3\" >-0.011412</td>\n",
       "                        <td id=\"T_df859aeb_80e2_11eb_902e_80fa5b48b5ddrow8_col4\" class=\"data row8 col4\" >0.009513</td>\n",
       "                        <td id=\"T_df859aeb_80e2_11eb_902e_80fa5b48b5ddrow8_col5\" class=\"data row8 col5\" >-0.025548</td>\n",
       "                        <td id=\"T_df859aeb_80e2_11eb_902e_80fa5b48b5ddrow8_col6\" class=\"data row8 col6\" >-0.001191</td>\n",
       "                        <td id=\"T_df859aeb_80e2_11eb_902e_80fa5b48b5ddrow8_col7\" class=\"data row8 col7\" >0.010928</td>\n",
       "                        <td id=\"T_df859aeb_80e2_11eb_902e_80fa5b48b5ddrow8_col8\" class=\"data row8 col8\" >1.000000</td>\n",
       "            </tr>\n",
       "    </tbody></table>"
      ],
      "text/plain": [
       "<pandas.io.formats.style.Styler at 0x1f44ae6a520>"
      ]
     },
     "execution_count": 33,
     "metadata": {},
     "output_type": "execute_result"
    }
   ],
   "source": [
    "corr = df_copy.corr()\n",
    "corr.style.background_gradient()"
   ]
  },
  {
   "cell_type": "code",
   "execution_count": null,
   "metadata": {},
   "outputs": [],
   "source": []
  }
 ],
 "metadata": {
  "kernelspec": {
   "display_name": "Python 3",
   "language": "python",
   "name": "python3"
  },
  "language_info": {
   "codemirror_mode": {
    "name": "ipython",
    "version": 3
   },
   "file_extension": ".py",
   "mimetype": "text/x-python",
   "name": "python",
   "nbconvert_exporter": "python",
   "pygments_lexer": "ipython3",
   "version": "3.8.3"
  },
  "toc": {
   "base_numbering": 1,
   "nav_menu": {},
   "number_sections": true,
   "sideBar": true,
   "skip_h1_title": false,
   "title_cell": "Table of Contents",
   "title_sidebar": "Contents",
   "toc_cell": false,
   "toc_position": {},
   "toc_section_display": true,
   "toc_window_display": false
  },
  "varInspector": {
   "cols": {
    "lenName": 16,
    "lenType": 16,
    "lenVar": 40
   },
   "kernels_config": {
    "python": {
     "delete_cmd_postfix": "",
     "delete_cmd_prefix": "del ",
     "library": "var_list.py",
     "varRefreshCmd": "print(var_dic_list())"
    },
    "r": {
     "delete_cmd_postfix": ") ",
     "delete_cmd_prefix": "rm(",
     "library": "var_list.r",
     "varRefreshCmd": "cat(var_dic_list()) "
    }
   },
   "types_to_exclude": [
    "module",
    "function",
    "builtin_function_or_method",
    "instance",
    "_Feature"
   ],
   "window_display": false
  }
 },
 "nbformat": 4,
 "nbformat_minor": 4
}
